{
 "cells": [
  {
   "cell_type": "markdown",
   "id": "e7dc3a43",
   "metadata": {
    "id": "e7dc3a43"
   },
   "source": [
    "### Import Library"
   ]
  },
  {
   "cell_type": "code",
   "execution_count": 1,
   "id": "fa25b142",
   "metadata": {
    "id": "fa25b142"
   },
   "outputs": [],
   "source": [
    "import numpy as np\n",
    "import pandas as pd\n",
    "import matplotlib.pyplot as plt\n",
    "import seaborn as sns\n",
    "from scipy import stats\n",
    "from statsmodels.stats import proportion"
   ]
  },
  {
   "cell_type": "markdown",
   "id": "26778dac",
   "metadata": {
    "id": "26778dac"
   },
   "source": [
    "### Menghitung Jumlah Sampel"
   ]
  },
  {
   "cell_type": "code",
   "execution_count": 2,
   "id": "68a72575",
   "metadata": {
    "id": "68a72575"
   },
   "outputs": [],
   "source": [
    "import statsmodels.formula.api as smf\n",
    "from scipy.stats import norm"
   ]
  },
  {
   "cell_type": "code",
   "execution_count": 3,
   "id": "71377009",
   "metadata": {
    "colab": {
     "base_uri": "https://localhost:8080/"
    },
    "id": "71377009",
    "outputId": "a389e720-229e-48f7-c701-1aefeaa780f0"
   },
   "outputs": [
    {
     "name": "stdout",
     "output_type": "stream",
     "text": [
      "Jumlah sampel yang diperlukan untuk tiap varian: 3532.00\n",
      "Jumlah sampel yang diperlukan untuk dua varian: 7063.99\n"
     ]
    }
   ],
   "source": [
    "alpha=0.05\n",
    "beta=0.2\n",
    "effect_size = 0.01\n",
    "sigma = 0.15\n",
    "z_alpha = norm.ppf(alpha/2)\n",
    "z_beta = norm.ppf(beta)\n",
    "n = (2*((z_alpha+z_beta)**2)*(sigma**2))/(effect_size**2)\n",
    "print(f\"Jumlah sampel yang diperlukan untuk tiap varian: {n:.2f}\")\n",
    "print(f\"Jumlah sampel yang diperlukan untuk dua varian: {n*2:.2f}\")"
   ]
  },
  {
   "cell_type": "markdown",
   "id": "e319a3e7",
   "metadata": {
    "id": "e319a3e7"
   },
   "source": [
    "### Import Data"
   ]
  },
  {
   "cell_type": "code",
   "execution_count": 4,
   "id": "68284c36",
   "metadata": {
    "id": "68284c36"
   },
   "outputs": [],
   "source": [
    "df = pd.read_csv(\"CASE3.csv\")"
   ]
  },
  {
   "cell_type": "code",
   "execution_count": 5,
   "id": "4f386655",
   "metadata": {
    "colab": {
     "base_uri": "https://localhost:8080/"
    },
    "id": "4f386655",
    "outputId": "5d3ecfbd-145e-4411-c380-035cd3a6a7df"
   },
   "outputs": [
    {
     "name": "stdout",
     "output_type": "stream",
     "text": [
      "<class 'pandas.core.frame.DataFrame'>\n",
      "RangeIndex: 8077 entries, 0 to 8076\n",
      "Data columns (total 9 columns):\n",
      " #   Column       Non-Null Count  Dtype \n",
      "---  ------       --------------  ----- \n",
      " 0   auction_id   8077 non-null   object\n",
      " 1   experiment   8077 non-null   object\n",
      " 2   date         8077 non-null   object\n",
      " 3   hour         8077 non-null   int64 \n",
      " 4   device_make  8077 non-null   object\n",
      " 5   platform_os  8077 non-null   int64 \n",
      " 6   browser      8077 non-null   object\n",
      " 7   yes          8077 non-null   int64 \n",
      " 8   no           8077 non-null   int64 \n",
      "dtypes: int64(4), object(5)\n",
      "memory usage: 568.0+ KB\n"
     ]
    }
   ],
   "source": [
    "df.info()"
   ]
  },
  {
   "cell_type": "code",
   "execution_count": 6,
   "id": "8cfa5e0c",
   "metadata": {
    "colab": {
     "base_uri": "https://localhost:8080/",
     "height": 206
    },
    "id": "8cfa5e0c",
    "outputId": "396879f4-b91a-4b9c-900c-52d8083226a7"
   },
   "outputs": [
    {
     "data": {
      "text/html": [
       "<div>\n",
       "<style scoped>\n",
       "    .dataframe tbody tr th:only-of-type {\n",
       "        vertical-align: middle;\n",
       "    }\n",
       "\n",
       "    .dataframe tbody tr th {\n",
       "        vertical-align: top;\n",
       "    }\n",
       "\n",
       "    .dataframe thead th {\n",
       "        text-align: right;\n",
       "    }\n",
       "</style>\n",
       "<table border=\"1\" class=\"dataframe\">\n",
       "  <thead>\n",
       "    <tr style=\"text-align: right;\">\n",
       "      <th></th>\n",
       "      <th>auction_id</th>\n",
       "      <th>experiment</th>\n",
       "      <th>date</th>\n",
       "      <th>hour</th>\n",
       "      <th>device_make</th>\n",
       "      <th>platform_os</th>\n",
       "      <th>browser</th>\n",
       "      <th>yes</th>\n",
       "      <th>no</th>\n",
       "    </tr>\n",
       "  </thead>\n",
       "  <tbody>\n",
       "    <tr>\n",
       "      <th>0</th>\n",
       "      <td>0008ef63-77a7-448b-bd1e-075f42c55e39</td>\n",
       "      <td>exposed</td>\n",
       "      <td>2020-07-10</td>\n",
       "      <td>8</td>\n",
       "      <td>Generic Smartphone</td>\n",
       "      <td>6</td>\n",
       "      <td>Chrome Mobile</td>\n",
       "      <td>0</td>\n",
       "      <td>0</td>\n",
       "    </tr>\n",
       "    <tr>\n",
       "      <th>1</th>\n",
       "      <td>000eabc5-17ce-4137-8efe-44734d914446</td>\n",
       "      <td>exposed</td>\n",
       "      <td>2020-07-07</td>\n",
       "      <td>10</td>\n",
       "      <td>Generic Smartphone</td>\n",
       "      <td>6</td>\n",
       "      <td>Chrome Mobile</td>\n",
       "      <td>0</td>\n",
       "      <td>0</td>\n",
       "    </tr>\n",
       "    <tr>\n",
       "      <th>2</th>\n",
       "      <td>0016d14a-ae18-4a02-a204-6ba53b52f2ed</td>\n",
       "      <td>exposed</td>\n",
       "      <td>2020-07-05</td>\n",
       "      <td>2</td>\n",
       "      <td>E5823</td>\n",
       "      <td>6</td>\n",
       "      <td>Chrome Mobile WebView</td>\n",
       "      <td>0</td>\n",
       "      <td>1</td>\n",
       "    </tr>\n",
       "    <tr>\n",
       "      <th>3</th>\n",
       "      <td>00187412-2932-4542-a8ef-3633901c98d9</td>\n",
       "      <td>control</td>\n",
       "      <td>2020-07-03</td>\n",
       "      <td>15</td>\n",
       "      <td>Samsung SM-A705FN</td>\n",
       "      <td>6</td>\n",
       "      <td>Facebook</td>\n",
       "      <td>0</td>\n",
       "      <td>0</td>\n",
       "    </tr>\n",
       "    <tr>\n",
       "      <th>4</th>\n",
       "      <td>001a7785-d3fe-4e11-a344-c8735acacc2c</td>\n",
       "      <td>control</td>\n",
       "      <td>2020-07-03</td>\n",
       "      <td>15</td>\n",
       "      <td>Generic Smartphone</td>\n",
       "      <td>6</td>\n",
       "      <td>Chrome Mobile</td>\n",
       "      <td>0</td>\n",
       "      <td>0</td>\n",
       "    </tr>\n",
       "  </tbody>\n",
       "</table>\n",
       "</div>"
      ],
      "text/plain": [
       "                             auction_id experiment        date  hour  \\\n",
       "0  0008ef63-77a7-448b-bd1e-075f42c55e39    exposed  2020-07-10     8   \n",
       "1  000eabc5-17ce-4137-8efe-44734d914446    exposed  2020-07-07    10   \n",
       "2  0016d14a-ae18-4a02-a204-6ba53b52f2ed    exposed  2020-07-05     2   \n",
       "3  00187412-2932-4542-a8ef-3633901c98d9    control  2020-07-03    15   \n",
       "4  001a7785-d3fe-4e11-a344-c8735acacc2c    control  2020-07-03    15   \n",
       "\n",
       "          device_make  platform_os                browser  yes  no  \n",
       "0  Generic Smartphone            6          Chrome Mobile    0   0  \n",
       "1  Generic Smartphone            6          Chrome Mobile    0   0  \n",
       "2               E5823            6  Chrome Mobile WebView    0   1  \n",
       "3   Samsung SM-A705FN            6               Facebook    0   0  \n",
       "4  Generic Smartphone            6          Chrome Mobile    0   0  "
      ]
     },
     "execution_count": 6,
     "metadata": {},
     "output_type": "execute_result"
    }
   ],
   "source": [
    "df.head()"
   ]
  },
  {
   "cell_type": "code",
   "execution_count": 7,
   "id": "545ea5fe",
   "metadata": {
    "colab": {
     "base_uri": "https://localhost:8080/"
    },
    "id": "545ea5fe",
    "outputId": "964e6ae4-5fec-47de-d9cc-02a2ec8ebe0f"
   },
   "outputs": [
    {
     "data": {
      "text/plain": [
       "(8077, 9)"
      ]
     },
     "execution_count": 7,
     "metadata": {},
     "output_type": "execute_result"
    }
   ],
   "source": [
    "df.shape"
   ]
  },
  {
   "cell_type": "markdown",
   "id": "bb87455d",
   "metadata": {
    "id": "bb87455d"
   },
   "source": [
    "### Handling missing value"
   ]
  },
  {
   "cell_type": "code",
   "execution_count": 8,
   "id": "3c66ce72",
   "metadata": {
    "colab": {
     "base_uri": "https://localhost:8080/"
    },
    "id": "3c66ce72",
    "outputId": "be2d64c6-d4eb-4587-c22f-f4177e353ff1"
   },
   "outputs": [
    {
     "data": {
      "text/plain": [
       "auction_id     0\n",
       "experiment     0\n",
       "date           0\n",
       "hour           0\n",
       "device_make    0\n",
       "platform_os    0\n",
       "browser        0\n",
       "yes            0\n",
       "no             0\n",
       "dtype: int64"
      ]
     },
     "execution_count": 8,
     "metadata": {},
     "output_type": "execute_result"
    }
   ],
   "source": [
    "df.isna().sum()"
   ]
  },
  {
   "cell_type": "markdown",
   "id": "b6f1b5e7",
   "metadata": {
    "id": "b6f1b5e7"
   },
   "source": [
    "### Handling Duplicated Data"
   ]
  },
  {
   "cell_type": "code",
   "execution_count": 9,
   "id": "059557ea",
   "metadata": {
    "colab": {
     "base_uri": "https://localhost:8080/"
    },
    "id": "059557ea",
    "outputId": "c197a953-ac75-4925-8dd0-f6202057f69b"
   },
   "outputs": [
    {
     "data": {
      "text/plain": [
       "0"
      ]
     },
     "execution_count": 9,
     "metadata": {},
     "output_type": "execute_result"
    }
   ],
   "source": [
    "# Checking duplicate data\n",
    "df.duplicated(['auction_id']).sum()"
   ]
  },
  {
   "cell_type": "markdown",
   "id": "E-2Wd_3soAgv",
   "metadata": {
    "id": "E-2Wd_3soAgv"
   },
   "source": [
    "### Data Distribution"
   ]
  },
  {
   "cell_type": "code",
   "execution_count": 10,
   "id": "IGDQjT72jXxW",
   "metadata": {
    "colab": {
     "base_uri": "https://localhost:8080/",
     "height": 472
    },
    "id": "IGDQjT72jXxW",
    "outputId": "9339e319-ad98-4615-f6b1-e87e0ead94e8"
   },
   "outputs": [
    {
     "data": {
      "image/png": "[encoded data removed]",
      "text/plain": [
       "<Figure size 640x480 with 1 Axes>"
      ]
     },
     "metadata": {},
     "output_type": "display_data"
    }
   ],
   "source": [
    "experiment_counts = df['experiment'].value_counts()\n",
    "\n",
    "plt.bar(experiment_counts.index, experiment_counts.values, color=['blue', 'orange'])\n",
    "plt.xlabel('Experiment')\n",
    "plt.ylabel('Jumlah Data')\n",
    "plt.title('Distribusi Data berdasarkan Jenis Eksperimen')\n",
    "\n",
    "plt.show()"
   ]
  },
  {
   "cell_type": "code",
   "execution_count": 11,
   "id": "xnJm_HcAl-a4",
   "metadata": {
    "colab": {
     "base_uri": "https://localhost:8080/"
    },
    "id": "xnJm_HcAl-a4",
    "outputId": "10af9092-67ba-4558-867e-cbc8ec9613c5"
   },
   "outputs": [
    {
     "data": {
      "text/plain": [
       "control    4071\n",
       "exposed    4006\n",
       "Name: experiment, dtype: int64"
      ]
     },
     "execution_count": 11,
     "metadata": {},
     "output_type": "execute_result"
    }
   ],
   "source": [
    "experiment_counts"
   ]
  },
  {
   "cell_type": "code",
   "execution_count": 12,
   "id": "PPotEjTSoKAs",
   "metadata": {
    "id": "PPotEjTSoKAs"
   },
   "outputs": [],
   "source": [
    "#Mengubah kolom date menjadi tipe data date time\n",
    "df[\"date\"]=pd.to_datetime(df[\"date\"])"
   ]
  },
  {
   "cell_type": "code",
   "execution_count": 13,
   "id": "8C_JqSZGoa2J",
   "metadata": {
    "colab": {
     "base_uri": "https://localhost:8080/",
     "height": 524
    },
    "id": "8C_JqSZGoa2J",
    "outputId": "4d3729b2-6490-4ebe-c124-c6aa2e9fbd94"
   },
   "outputs": [
    {
     "data": {
      "image/png": "[encoded data removed]",
      "text/plain": [
       "<Figure size 640x480 with 1 Axes>"
      ]
     },
     "metadata": {},
     "output_type": "display_data"
    }
   ],
   "source": [
    "date_counts = df['date'].value_counts()\n",
    "plt.bar(date_counts.index, date_counts.values)\n",
    "plt.xlabel('Tanggal')\n",
    "plt.ylabel('Jumlah User')\n",
    "plt.title('Distribusi Data berdasarkan Tanggal Eksperimen')\n",
    "plt.xticks(rotation=45)\n",
    "plt.show()"
   ]
  },
  {
   "cell_type": "code",
   "execution_count": 14,
   "id": "fjTpubNFo6mI",
   "metadata": {
    "colab": {
     "base_uri": "https://localhost:8080/"
    },
    "id": "fjTpubNFo6mI",
    "outputId": "7cb51686-a2cf-42b2-f42d-2ac7d20737b2"
   },
   "outputs": [
    {
     "data": {
      "text/plain": [
       "2020-07-03    2015\n",
       "2020-07-09    1208\n",
       "2020-07-08    1198\n",
       "2020-07-04     903\n",
       "2020-07-10     893\n",
       "2020-07-05     890\n",
       "2020-07-06     490\n",
       "2020-07-07     480\n",
       "Name: date, dtype: int64"
      ]
     },
     "execution_count": 14,
     "metadata": {},
     "output_type": "execute_result"
    }
   ],
   "source": [
    "date_counts"
   ]
  },
  {
   "cell_type": "code",
   "execution_count": 15,
   "id": "HSXgF_btvD3y",
   "metadata": {
    "colab": {
     "base_uri": "https://localhost:8080/"
    },
    "id": "HSXgF_btvD3y",
    "outputId": "4823437e-df35-48ad-886b-ab5136ee4d7c"
   },
   "outputs": [
    {
     "name": "stdout",
     "output_type": "stream",
     "text": [
      "2020-07-03    24.95\n",
      "2020-07-09    14.96\n",
      "2020-07-08    14.83\n",
      "2020-07-04    11.18\n",
      "2020-07-10    11.06\n",
      "2020-07-05    11.02\n",
      "2020-07-06     6.07\n",
      "2020-07-07     5.94\n",
      "Name: date, dtype: float64\n"
     ]
    }
   ],
   "source": [
    "#Menampilkan date_counts dalam format persentase\n",
    "total_count = date_counts.sum()\n",
    "date_counts_percentages = (date_counts / total_count) * 100\n",
    "print(date_counts_percentages.round(2))"
   ]
  },
  {
   "cell_type": "code",
   "execution_count": 16,
   "id": "nU7iU1M6IWnB",
   "metadata": {
    "colab": {
     "base_uri": "https://localhost:8080/",
     "height": 472
    },
    "id": "nU7iU1M6IWnB",
    "outputId": "6701786a-c247-47c0-dd12-26377a13b711"
   },
   "outputs": [
    {
     "data": {
      "image/png": "[encoded data removed]",
      "text/plain": [
       "<Figure size 640x480 with 1 Axes>"
      ]
     },
     "metadata": {},
     "output_type": "display_data"
    }
   ],
   "source": [
    "hour_counts = df['hour'].value_counts()\n",
    "plt.bar(hour_counts.index, hour_counts.values)\n",
    "plt.xticks(range(1, 24))\n",
    "plt.xlabel('Jam')\n",
    "plt.ylabel('Jumlah User')\n",
    "plt.title('Distribusi Data berdasarkan Jam Eksperimen')\n",
    "plt.show()"
   ]
  },
  {
   "cell_type": "code",
   "execution_count": 17,
   "id": "_S_Gzn1PJhyX",
   "metadata": {
    "colab": {
     "base_uri": "https://localhost:8080/"
    },
    "id": "_S_Gzn1PJhyX",
    "outputId": "14d4c164-0723-402e-b0ac-c05454d123ef"
   },
   "outputs": [
    {
     "data": {
      "text/plain": [
       "15    1895\n",
       "8      394\n",
       "7      381\n",
       "9      346\n",
       "10     336\n",
       "16     335\n",
       "6      327\n",
       "14     319\n",
       "5      302\n",
       "13     290\n",
       "11     282\n",
       "4      281\n",
       "12     278\n",
       "18     273\n",
       "3      266\n",
       "20     264\n",
       "17     263\n",
       "2      230\n",
       "19     227\n",
       "1      222\n",
       "21     206\n",
       "0      194\n",
       "22     135\n",
       "23      31\n",
       "Name: hour, dtype: int64"
      ]
     },
     "execution_count": 17,
     "metadata": {},
     "output_type": "execute_result"
    }
   ],
   "source": [
    "hour_counts"
   ]
  },
  {
   "cell_type": "code",
   "execution_count": 18,
   "id": "8_taa20PKG_M",
   "metadata": {
    "colab": {
     "base_uri": "https://localhost:8080/"
    },
    "id": "8_taa20PKG_M",
    "outputId": "bb3a60e6-1e5f-4d12-ff5f-a13f34b32273"
   },
   "outputs": [
    {
     "name": "stdout",
     "output_type": "stream",
     "text": [
      "15    23.46\n",
      "8      4.88\n",
      "7      4.72\n",
      "9      4.28\n",
      "10     4.16\n",
      "16     4.15\n",
      "6      4.05\n",
      "14     3.95\n",
      "5      3.74\n",
      "13     3.59\n",
      "11     3.49\n",
      "4      3.48\n",
      "12     3.44\n",
      "18     3.38\n",
      "3      3.29\n",
      "20     3.27\n",
      "17     3.26\n",
      "2      2.85\n",
      "19     2.81\n",
      "1      2.75\n",
      "21     2.55\n",
      "0      2.40\n",
      "22     1.67\n",
      "23     0.38\n",
      "Name: hour, dtype: float64\n"
     ]
    }
   ],
   "source": [
    "#Menampilkan hour_counts dalam format persentase\n",
    "total_hour_count = hour_counts.sum()\n",
    "hour_counts_percentages = (hour_counts / total_hour_count) * 100\n",
    "print(hour_counts_percentages.round(2))"
   ]
  },
  {
   "cell_type": "code",
   "execution_count": 19,
   "id": "f-16JplrSFM6",
   "metadata": {
    "id": "f-16JplrSFM6"
   },
   "outputs": [],
   "source": [
    "by_date_hour = df.groupby(['date', 'hour'])['auction_id'].count()"
   ]
  },
  {
   "cell_type": "code",
   "execution_count": 20,
   "id": "HsmziRg3T3of",
   "metadata": {
    "colab": {
     "base_uri": "https://localhost:8080/"
    },
    "id": "HsmziRg3T3of",
    "outputId": "4d6a31e1-4842-4639-d2cb-760dbfb17d8e"
   },
   "outputs": [
    {
     "data": {
      "text/plain": [
       "date        hour\n",
       "2020-07-03  15      1546\n",
       "2020-07-08  20       126\n",
       "            15       125\n",
       "            18       116\n",
       "            16       115\n",
       "                    ... \n",
       "2020-07-05  23         2\n",
       "2020-07-07  23         2\n",
       "2020-07-06  22         1\n",
       "2020-07-03  21         1\n",
       "            19         1\n",
       "Name: auction_id, Length: 168, dtype: int64"
      ]
     },
     "execution_count": 20,
     "metadata": {},
     "output_type": "execute_result"
    }
   ],
   "source": [
    "by_date_hour.sort_values(ascending=False)"
   ]
  },
  {
   "cell_type": "code",
   "execution_count": 21,
   "id": "I-qnqQNMdM3K",
   "metadata": {
    "colab": {
     "base_uri": "https://localhost:8080/"
    },
    "id": "I-qnqQNMdM3K",
    "outputId": "fc623be9-f1b5-4e3a-9699-ed66eeaca83e"
   },
   "outputs": [
    {
     "data": {
      "text/plain": [
       "Generic Smartphone     4743\n",
       "iPhone                  433\n",
       "Samsung SM-G960F        203\n",
       "Samsung SM-G973F        154\n",
       "Samsung SM-G950F        148\n",
       "                       ... \n",
       "D5803                     1\n",
       "Samsung SM-G6100          1\n",
       "HTC M10h                  1\n",
       "Samsung SM-G925I          1\n",
       "XiaoMi Redmi Note 5       1\n",
       "Name: device_make, Length: 269, dtype: int64"
      ]
     },
     "execution_count": 21,
     "metadata": {},
     "output_type": "execute_result"
    }
   ],
   "source": [
    "df[\"device_make\"].value_counts()"
   ]
  },
  {
   "cell_type": "code",
   "execution_count": 22,
   "id": "b_Vipuqgdfym",
   "metadata": {
    "colab": {
     "base_uri": "https://localhost:8080/"
    },
    "id": "b_Vipuqgdfym",
    "outputId": "56cbf225-59a6-4dff-af30-ea4c80844453"
   },
   "outputs": [
    {
     "data": {
      "text/plain": [
       "6    7648\n",
       "5     428\n",
       "7       1\n",
       "Name: platform_os, dtype: int64"
      ]
     },
     "execution_count": 22,
     "metadata": {},
     "output_type": "execute_result"
    }
   ],
   "source": [
    "df[\"platform_os\"].value_counts()"
   ]
  },
  {
   "cell_type": "code",
   "execution_count": 23,
   "id": "244b7493",
   "metadata": {
    "colab": {
     "base_uri": "https://localhost:8080/"
    },
    "id": "244b7493",
    "outputId": "c015faeb-ad05-46ad-f229-22874c2b6382"
   },
   "outputs": [
    {
     "data": {
      "text/plain": [
       "Chrome Mobile                 4554\n",
       "Chrome Mobile WebView         1489\n",
       "Samsung Internet               824\n",
       "Facebook                       764\n",
       "Mobile Safari                  337\n",
       "Chrome Mobile iOS               51\n",
       "Mobile Safari UI/WKWebView      44\n",
       "Chrome                           3\n",
       "Pinterest                        3\n",
       "Opera Mobile                     3\n",
       "Opera Mini                       1\n",
       "Edge Mobile                      1\n",
       "Android                          1\n",
       "Firefox Mobile                   1\n",
       "Puffin                           1\n",
       "Name: browser, dtype: int64"
      ]
     },
     "execution_count": 23,
     "metadata": {},
     "output_type": "execute_result"
    }
   ],
   "source": [
    "df[\"browser\"].value_counts()"
   ]
  },
  {
   "cell_type": "markdown",
   "id": "24e94b36",
   "metadata": {
    "id": "24e94b36"
   },
   "source": [
    "### Penyeragaman Data"
   ]
  },
  {
   "cell_type": "code",
   "execution_count": 24,
   "id": "f50daf37",
   "metadata": {
    "id": "f50daf37"
   },
   "outputs": [],
   "source": [
    "#Membuat function untuk mengelompokkan browser\n",
    "def browser(df):\n",
    "    df['browser_type'] = df['browser'].apply(lambda x: 'Chrome' if x in ['Chrome Mobile', 'Chrome Mobile WebView', 'Chrome Mobile iOS', 'Chrome'] else (\n",
    "        'Samsung Internet' if x == 'Samsung Internet' else (\n",
    "            'Facebook' if x == 'Facebook' else (\n",
    "                'Safari' if x in ['Mobile Safari', 'Mobile Safari UI/WKWebView'] else 'Others'))))\n",
    "    return df\n",
    "\n",
    "df = browser(df)"
   ]
  },
  {
   "cell_type": "code",
   "execution_count": 25,
   "id": "6c77da29",
   "metadata": {
    "id": "6c77da29"
   },
   "outputs": [],
   "source": [
    "browser_type_counts = df[\"browser_type\"].value_counts()"
   ]
  },
  {
   "cell_type": "code",
   "execution_count": 26,
   "id": "lKjvv4dLiZmU",
   "metadata": {
    "colab": {
     "base_uri": "https://localhost:8080/",
     "height": 555
    },
    "id": "lKjvv4dLiZmU",
    "outputId": "b74748ad-8574-4180-9a60-d2fcee1ecf2b"
   },
   "outputs": [
    {
     "data": {
      "image/png": "[encoded data removed]",
      "text/plain": [
       "<Figure size 640x480 with 1 Axes>"
      ]
     },
     "metadata": {},
     "output_type": "display_data"
    }
   ],
   "source": [
    "plt.bar(browser_type_counts.index, browser_type_counts.values)\n",
    "plt.xlabel('Jenis Browser')\n",
    "plt.ylabel('Jumlah User')\n",
    "plt.title('Distribusi User berdasarkan Jenis Browser')\n",
    "plt.xticks(rotation=45)\n",
    "plt.show()"
   ]
  },
  {
   "cell_type": "code",
   "execution_count": 27,
   "id": "SdZg4hAHnIk7",
   "metadata": {
    "colab": {
     "base_uri": "https://localhost:8080/"
    },
    "id": "SdZg4hAHnIk7",
    "outputId": "090630f6-ec3d-4c1e-8c6c-06715e90a5f7"
   },
   "outputs": [
    {
     "data": {
      "text/plain": [
       "Chrome              6097\n",
       "Samsung Internet     824\n",
       "Facebook             764\n",
       "Safari               381\n",
       "Others                11\n",
       "Name: browser_type, dtype: int64"
      ]
     },
     "execution_count": 27,
     "metadata": {},
     "output_type": "execute_result"
    }
   ],
   "source": [
    "browser_type_counts"
   ]
  },
  {
   "cell_type": "code",
   "execution_count": 28,
   "id": "-2dzSh_xmszx",
   "metadata": {
    "colab": {
     "base_uri": "https://localhost:8080/"
    },
    "id": "-2dzSh_xmszx",
    "outputId": "909cf52b-0862-420d-ea75-d3ed3cc7ad26"
   },
   "outputs": [
    {
     "name": "stdout",
     "output_type": "stream",
     "text": [
      "Chrome              75.49\n",
      "Samsung Internet    10.20\n",
      "Facebook             9.46\n",
      "Safari               4.72\n",
      "Others               0.14\n",
      "Name: browser_type, dtype: float64\n"
     ]
    }
   ],
   "source": [
    "total_browser_count = browser_type_counts.sum()\n",
    "browser_counts_percentages = (browser_type_counts / total_browser_count) * 100\n",
    "print(browser_counts_percentages.round(2))"
   ]
  },
  {
   "cell_type": "code",
   "execution_count": 29,
   "id": "5626b14a",
   "metadata": {
    "id": "5626b14a"
   },
   "outputs": [],
   "source": [
    "#Membuat kolom baru untuk mengelompokkan user yang mengisi BIO questionnaire dan tidak\n",
    "def response(df):\n",
    "  if df[\"yes\"] == 1 and df[\"no\"] == 0:\n",
    "    return \"Mengisi\"\n",
    "  elif df[\"yes\"] == 0 and df[\"no\"] == 1:\n",
    "    return \"Menolak mengisi\"\n",
    "  else:\n",
    "    return \"Tidak menanggapi\"\n",
    "\n",
    "df[\"ad_response\"] = df.apply(response, axis=1)\n"
   ]
  },
  {
   "cell_type": "code",
   "execution_count": 30,
   "id": "XNFTbKc1qLwO",
   "metadata": {
    "colab": {
     "base_uri": "https://localhost:8080/"
    },
    "id": "XNFTbKc1qLwO",
    "outputId": "637b762d-ecfc-4dcf-8317-5f9be03b1a6c"
   },
   "outputs": [
    {
     "data": {
      "text/plain": [
       "Tidak menanggapi    6834\n",
       "Menolak mengisi      671\n",
       "Mengisi              572\n",
       "Name: ad_response, dtype: int64"
      ]
     },
     "execution_count": 30,
     "metadata": {},
     "output_type": "execute_result"
    }
   ],
   "source": [
    "respon = df[\"ad_response\"].value_counts()\n",
    "respon"
   ]
  },
  {
   "cell_type": "code",
   "execution_count": 31,
   "id": "DM2ZFa8Jqwp6",
   "metadata": {
    "colab": {
     "base_uri": "https://localhost:8080/",
     "height": 472
    },
    "id": "DM2ZFa8Jqwp6",
    "outputId": "5c0e2814-54fd-4e42-fa41-3f19bf3c8293"
   },
   "outputs": [
    {
     "data": {
      "image/png": "[encoded data removed]",
      "text/plain": [
       "<Figure size 640x480 with 1 Axes>"
      ]
     },
     "metadata": {},
     "output_type": "display_data"
    }
   ],
   "source": [
    "plt.bar(respon.index, respon.values)\n",
    "plt.xlabel('Jenis Respon')\n",
    "plt.ylabel('Jumlah User')\n",
    "plt.title('Distribusi User berdasarkan Respon terhadap Iklan')\n",
    "plt.show()"
   ]
  },
  {
   "cell_type": "code",
   "execution_count": 32,
   "id": "jk_WO1Y8r2M8",
   "metadata": {
    "colab": {
     "base_uri": "https://localhost:8080/"
    },
    "id": "jk_WO1Y8r2M8",
    "outputId": "8f335677-2315-4f32-ba31-4a4b6df9e459"
   },
   "outputs": [
    {
     "name": "stdout",
     "output_type": "stream",
     "text": [
      "Tidak menanggapi    84.61\n",
      "Menolak mengisi      8.31\n",
      "Mengisi              7.08\n",
      "Name: ad_response, dtype: float64\n"
     ]
    }
   ],
   "source": [
    "total_respon = respon.sum()\n",
    "respon_percentages = (respon / total_respon) * 100\n",
    "print(respon_percentages.round(2))"
   ]
  },
  {
   "cell_type": "code",
   "execution_count": 33,
   "id": "wQyjvexhaffp",
   "metadata": {
    "colab": {
     "base_uri": "https://localhost:8080/"
    },
    "id": "wQyjvexhaffp",
    "outputId": "db8a6faa-7a41-4607-b69d-5126f79bb210"
   },
   "outputs": [
    {
     "data": {
      "text/plain": [
       "Tidak menanggapi    3349\n",
       "Menolak mengisi      349\n",
       "Mengisi              308\n",
       "Name: ad_response, dtype: int64"
      ]
     },
     "execution_count": 33,
     "metadata": {},
     "output_type": "execute_result"
    }
   ],
   "source": [
    "response_exposed = df[df[\"experiment\"] == 'exposed'][\"ad_response\"].value_counts()\n",
    "response_exposed"
   ]
  },
  {
   "cell_type": "code",
   "execution_count": 34,
   "id": "JRXkf4u4bV2Q",
   "metadata": {
    "colab": {
     "base_uri": "https://localhost:8080/",
     "height": 472
    },
    "id": "JRXkf4u4bV2Q",
    "outputId": "c062ef54-bd23-46cc-8820-7cd1cf768502"
   },
   "outputs": [
    {
     "data": {
      "image/png": "[encoded data removed]",
      "text/plain": [
       "<Figure size 640x480 with 1 Axes>"
      ]
     },
     "metadata": {},
     "output_type": "display_data"
    }
   ],
   "source": [
    "plt.bar(response_exposed.index, response_exposed.values,color=['green'])\n",
    "plt.xlabel('Jenis Respon')\n",
    "plt.ylabel('Jumlah User')\n",
    "plt.title('Distribusi User berdasarkan Respon terhadap Iklan Interaktif')\n",
    "plt.show()"
   ]
  },
  {
   "cell_type": "code",
   "execution_count": 35,
   "id": "tL90n5vvby6m",
   "metadata": {
    "colab": {
     "base_uri": "https://localhost:8080/"
    },
    "id": "tL90n5vvby6m",
    "outputId": "6b927e42-b0e9-47e6-c4b4-459572b0cae5"
   },
   "outputs": [
    {
     "name": "stdout",
     "output_type": "stream",
     "text": [
      "Tidak menanggapi    83.60\n",
      "Menolak mengisi      8.71\n",
      "Mengisi              7.69\n",
      "Name: ad_response, dtype: float64\n"
     ]
    }
   ],
   "source": [
    "total_resp_exposed = response_exposed.sum()\n",
    "resp_exposed_percent = (response_exposed / total_resp_exposed) * 100\n",
    "print(resp_exposed_percent.round(2))"
   ]
  },
  {
   "cell_type": "code",
   "execution_count": 36,
   "id": "ivJgbC6VcozW",
   "metadata": {
    "colab": {
     "base_uri": "https://localhost:8080/"
    },
    "id": "ivJgbC6VcozW",
    "outputId": "acd9dc95-cd8a-4d47-ab8b-5b0e70f799f2"
   },
   "outputs": [
    {
     "data": {
      "text/plain": [
       "Tidak menanggapi    3485\n",
       "Menolak mengisi      322\n",
       "Mengisi              264\n",
       "Name: ad_response, dtype: int64"
      ]
     },
     "execution_count": 36,
     "metadata": {},
     "output_type": "execute_result"
    }
   ],
   "source": [
    "response_control = df[df[\"experiment\"] == 'control'][\"ad_response\"].value_counts()\n",
    "response_control"
   ]
  },
  {
   "cell_type": "code",
   "execution_count": 37,
   "id": "tNB6KFRkcy3q",
   "metadata": {
    "colab": {
     "base_uri": "https://localhost:8080/",
     "height": 472
    },
    "id": "tNB6KFRkcy3q",
    "outputId": "54119589-bc60-49fc-9c9e-eab33a932416"
   },
   "outputs": [
    {
     "data": {
      "image/png": "[encoded data removed]",
      "text/plain": [
       "<Figure size 640x480 with 1 Axes>"
      ]
     },
     "metadata": {},
     "output_type": "display_data"
    }
   ],
   "source": [
    "plt.bar(response_control.index, response_control.values,color=['brown'])\n",
    "plt.xlabel('Jenis Respon')\n",
    "plt.ylabel('Jumlah User')\n",
    "plt.title('Distribusi User berdasarkan Respon terhadap Iklan Statis')\n",
    "plt.show()"
   ]
  },
  {
   "cell_type": "code",
   "execution_count": 38,
   "id": "V_ykgpJZsh1I",
   "metadata": {
    "colab": {
     "base_uri": "https://localhost:8080/"
    },
    "id": "V_ykgpJZsh1I",
    "outputId": "1d774abe-13d3-4338-ee4f-72d0f18bf0bf"
   },
   "outputs": [
    {
     "name": "stdout",
     "output_type": "stream",
     "text": [
      "Tidak menanggapi    85.61\n",
      "Menolak mengisi      7.91\n",
      "Mengisi              6.48\n",
      "Name: ad_response, dtype: float64\n"
     ]
    }
   ],
   "source": [
    "total_resp_control = response_control.sum()\n",
    "resp_control_percent = (response_control / total_resp_control) * 100\n",
    "print(resp_control_percent.round(2))"
   ]
  },
  {
   "cell_type": "code",
   "execution_count": 39,
   "id": "269baddd",
   "metadata": {
    "id": "269baddd"
   },
   "outputs": [],
   "source": [
    "df[\"fill_quest\"]= 1 * (df[\"yes\"] == 1)"
   ]
  },
  {
   "cell_type": "code",
   "execution_count": 40,
   "id": "txxif4KrJnbL",
   "metadata": {
    "colab": {
     "base_uri": "https://localhost:8080/",
     "height": 206
    },
    "id": "txxif4KrJnbL",
    "outputId": "1538c376-4977-4afe-e493-4c2108481dc6"
   },
   "outputs": [
    {
     "data": {
      "text/html": [
       "<div>\n",
       "<style scoped>\n",
       "    .dataframe tbody tr th:only-of-type {\n",
       "        vertical-align: middle;\n",
       "    }\n",
       "\n",
       "    .dataframe tbody tr th {\n",
       "        vertical-align: top;\n",
       "    }\n",
       "\n",
       "    .dataframe thead th {\n",
       "        text-align: right;\n",
       "    }\n",
       "</style>\n",
       "<table border=\"1\" class=\"dataframe\">\n",
       "  <thead>\n",
       "    <tr style=\"text-align: right;\">\n",
       "      <th></th>\n",
       "      <th>auction_id</th>\n",
       "      <th>experiment</th>\n",
       "      <th>date</th>\n",
       "      <th>hour</th>\n",
       "      <th>device_make</th>\n",
       "      <th>platform_os</th>\n",
       "      <th>browser</th>\n",
       "      <th>yes</th>\n",
       "      <th>no</th>\n",
       "      <th>browser_type</th>\n",
       "      <th>ad_response</th>\n",
       "      <th>fill_quest</th>\n",
       "    </tr>\n",
       "  </thead>\n",
       "  <tbody>\n",
       "    <tr>\n",
       "      <th>0</th>\n",
       "      <td>0008ef63-77a7-448b-bd1e-075f42c55e39</td>\n",
       "      <td>exposed</td>\n",
       "      <td>2020-07-10</td>\n",
       "      <td>8</td>\n",
       "      <td>Generic Smartphone</td>\n",
       "      <td>6</td>\n",
       "      <td>Chrome Mobile</td>\n",
       "      <td>0</td>\n",
       "      <td>0</td>\n",
       "      <td>Chrome</td>\n",
       "      <td>Tidak menanggapi</td>\n",
       "      <td>0</td>\n",
       "    </tr>\n",
       "    <tr>\n",
       "      <th>1</th>\n",
       "      <td>000eabc5-17ce-4137-8efe-44734d914446</td>\n",
       "      <td>exposed</td>\n",
       "      <td>2020-07-07</td>\n",
       "      <td>10</td>\n",
       "      <td>Generic Smartphone</td>\n",
       "      <td>6</td>\n",
       "      <td>Chrome Mobile</td>\n",
       "      <td>0</td>\n",
       "      <td>0</td>\n",
       "      <td>Chrome</td>\n",
       "      <td>Tidak menanggapi</td>\n",
       "      <td>0</td>\n",
       "    </tr>\n",
       "    <tr>\n",
       "      <th>2</th>\n",
       "      <td>0016d14a-ae18-4a02-a204-6ba53b52f2ed</td>\n",
       "      <td>exposed</td>\n",
       "      <td>2020-07-05</td>\n",
       "      <td>2</td>\n",
       "      <td>E5823</td>\n",
       "      <td>6</td>\n",
       "      <td>Chrome Mobile WebView</td>\n",
       "      <td>0</td>\n",
       "      <td>1</td>\n",
       "      <td>Chrome</td>\n",
       "      <td>Menolak mengisi</td>\n",
       "      <td>0</td>\n",
       "    </tr>\n",
       "    <tr>\n",
       "      <th>3</th>\n",
       "      <td>00187412-2932-4542-a8ef-3633901c98d9</td>\n",
       "      <td>control</td>\n",
       "      <td>2020-07-03</td>\n",
       "      <td>15</td>\n",
       "      <td>Samsung SM-A705FN</td>\n",
       "      <td>6</td>\n",
       "      <td>Facebook</td>\n",
       "      <td>0</td>\n",
       "      <td>0</td>\n",
       "      <td>Facebook</td>\n",
       "      <td>Tidak menanggapi</td>\n",
       "      <td>0</td>\n",
       "    </tr>\n",
       "    <tr>\n",
       "      <th>4</th>\n",
       "      <td>001a7785-d3fe-4e11-a344-c8735acacc2c</td>\n",
       "      <td>control</td>\n",
       "      <td>2020-07-03</td>\n",
       "      <td>15</td>\n",
       "      <td>Generic Smartphone</td>\n",
       "      <td>6</td>\n",
       "      <td>Chrome Mobile</td>\n",
       "      <td>0</td>\n",
       "      <td>0</td>\n",
       "      <td>Chrome</td>\n",
       "      <td>Tidak menanggapi</td>\n",
       "      <td>0</td>\n",
       "    </tr>\n",
       "  </tbody>\n",
       "</table>\n",
       "</div>"
      ],
      "text/plain": [
       "                             auction_id experiment       date  hour  \\\n",
       "0  0008ef63-77a7-448b-bd1e-075f42c55e39    exposed 2020-07-10     8   \n",
       "1  000eabc5-17ce-4137-8efe-44734d914446    exposed 2020-07-07    10   \n",
       "2  0016d14a-ae18-4a02-a204-6ba53b52f2ed    exposed 2020-07-05     2   \n",
       "3  00187412-2932-4542-a8ef-3633901c98d9    control 2020-07-03    15   \n",
       "4  001a7785-d3fe-4e11-a344-c8735acacc2c    control 2020-07-03    15   \n",
       "\n",
       "          device_make  platform_os                browser  yes  no  \\\n",
       "0  Generic Smartphone            6          Chrome Mobile    0   0   \n",
       "1  Generic Smartphone            6          Chrome Mobile    0   0   \n",
       "2               E5823            6  Chrome Mobile WebView    0   1   \n",
       "3   Samsung SM-A705FN            6               Facebook    0   0   \n",
       "4  Generic Smartphone            6          Chrome Mobile    0   0   \n",
       "\n",
       "  browser_type       ad_response  fill_quest  \n",
       "0       Chrome  Tidak menanggapi           0  \n",
       "1       Chrome  Tidak menanggapi           0  \n",
       "2       Chrome   Menolak mengisi           0  \n",
       "3     Facebook  Tidak menanggapi           0  \n",
       "4       Chrome  Tidak menanggapi           0  "
      ]
     },
     "execution_count": 40,
     "metadata": {},
     "output_type": "execute_result"
    }
   ],
   "source": [
    "df.head()"
   ]
  },
  {
   "cell_type": "code",
   "execution_count": 41,
   "id": "01b581b2",
   "metadata": {
    "id": "01b581b2"
   },
   "outputs": [],
   "source": [
    "delete_col = ['device_make', 'platform_os', 'yes', 'no']\n",
    "data = df.drop(columns=delete_col)"
   ]
  },
  {
   "cell_type": "code",
   "execution_count": 42,
   "id": "b1484eee",
   "metadata": {
    "colab": {
     "base_uri": "https://localhost:8080/",
     "height": 206
    },
    "id": "b1484eee",
    "outputId": "6764b8ed-aa01-481a-9c1b-4f98fe3249c5"
   },
   "outputs": [
    {
     "data": {
      "text/html": [
       "<div>\n",
       "<style scoped>\n",
       "    .dataframe tbody tr th:only-of-type {\n",
       "        vertical-align: middle;\n",
       "    }\n",
       "\n",
       "    .dataframe tbody tr th {\n",
       "        vertical-align: top;\n",
       "    }\n",
       "\n",
       "    .dataframe thead th {\n",
       "        text-align: right;\n",
       "    }\n",
       "</style>\n",
       "<table border=\"1\" class=\"dataframe\">\n",
       "  <thead>\n",
       "    <tr style=\"text-align: right;\">\n",
       "      <th></th>\n",
       "      <th>auction_id</th>\n",
       "      <th>experiment</th>\n",
       "      <th>date</th>\n",
       "      <th>hour</th>\n",
       "      <th>browser</th>\n",
       "      <th>browser_type</th>\n",
       "      <th>ad_response</th>\n",
       "      <th>fill_quest</th>\n",
       "    </tr>\n",
       "  </thead>\n",
       "  <tbody>\n",
       "    <tr>\n",
       "      <th>0</th>\n",
       "      <td>0008ef63-77a7-448b-bd1e-075f42c55e39</td>\n",
       "      <td>exposed</td>\n",
       "      <td>2020-07-10</td>\n",
       "      <td>8</td>\n",
       "      <td>Chrome Mobile</td>\n",
       "      <td>Chrome</td>\n",
       "      <td>Tidak menanggapi</td>\n",
       "      <td>0</td>\n",
       "    </tr>\n",
       "    <tr>\n",
       "      <th>1</th>\n",
       "      <td>000eabc5-17ce-4137-8efe-44734d914446</td>\n",
       "      <td>exposed</td>\n",
       "      <td>2020-07-07</td>\n",
       "      <td>10</td>\n",
       "      <td>Chrome Mobile</td>\n",
       "      <td>Chrome</td>\n",
       "      <td>Tidak menanggapi</td>\n",
       "      <td>0</td>\n",
       "    </tr>\n",
       "    <tr>\n",
       "      <th>2</th>\n",
       "      <td>0016d14a-ae18-4a02-a204-6ba53b52f2ed</td>\n",
       "      <td>exposed</td>\n",
       "      <td>2020-07-05</td>\n",
       "      <td>2</td>\n",
       "      <td>Chrome Mobile WebView</td>\n",
       "      <td>Chrome</td>\n",
       "      <td>Menolak mengisi</td>\n",
       "      <td>0</td>\n",
       "    </tr>\n",
       "    <tr>\n",
       "      <th>3</th>\n",
       "      <td>00187412-2932-4542-a8ef-3633901c98d9</td>\n",
       "      <td>control</td>\n",
       "      <td>2020-07-03</td>\n",
       "      <td>15</td>\n",
       "      <td>Facebook</td>\n",
       "      <td>Facebook</td>\n",
       "      <td>Tidak menanggapi</td>\n",
       "      <td>0</td>\n",
       "    </tr>\n",
       "    <tr>\n",
       "      <th>4</th>\n",
       "      <td>001a7785-d3fe-4e11-a344-c8735acacc2c</td>\n",
       "      <td>control</td>\n",
       "      <td>2020-07-03</td>\n",
       "      <td>15</td>\n",
       "      <td>Chrome Mobile</td>\n",
       "      <td>Chrome</td>\n",
       "      <td>Tidak menanggapi</td>\n",
       "      <td>0</td>\n",
       "    </tr>\n",
       "  </tbody>\n",
       "</table>\n",
       "</div>"
      ],
      "text/plain": [
       "                             auction_id experiment       date  hour  \\\n",
       "0  0008ef63-77a7-448b-bd1e-075f42c55e39    exposed 2020-07-10     8   \n",
       "1  000eabc5-17ce-4137-8efe-44734d914446    exposed 2020-07-07    10   \n",
       "2  0016d14a-ae18-4a02-a204-6ba53b52f2ed    exposed 2020-07-05     2   \n",
       "3  00187412-2932-4542-a8ef-3633901c98d9    control 2020-07-03    15   \n",
       "4  001a7785-d3fe-4e11-a344-c8735acacc2c    control 2020-07-03    15   \n",
       "\n",
       "                 browser browser_type       ad_response  fill_quest  \n",
       "0          Chrome Mobile       Chrome  Tidak menanggapi           0  \n",
       "1          Chrome Mobile       Chrome  Tidak menanggapi           0  \n",
       "2  Chrome Mobile WebView       Chrome   Menolak mengisi           0  \n",
       "3               Facebook     Facebook  Tidak menanggapi           0  \n",
       "4          Chrome Mobile       Chrome  Tidak menanggapi           0  "
      ]
     },
     "execution_count": 42,
     "metadata": {},
     "output_type": "execute_result"
    }
   ],
   "source": [
    "data.head()"
   ]
  },
  {
   "cell_type": "markdown",
   "id": "49e4fdd9",
   "metadata": {
    "id": "49e4fdd9"
   },
   "source": [
    "### Pengelompokkan data Control dan Exposed"
   ]
  },
  {
   "cell_type": "code",
   "execution_count": 43,
   "id": "c740e475",
   "metadata": {
    "id": "c740e475"
   },
   "outputs": [],
   "source": [
    "d_control = data[data[\"experiment\"]=='control']\n",
    "d_exposed = data[data[\"experiment\"]=='exposed']"
   ]
  },
  {
   "cell_type": "code",
   "execution_count": 44,
   "id": "3395f126",
   "metadata": {
    "id": "3395f126"
   },
   "outputs": [],
   "source": [
    "#Menghitung jumlah sampel untuk tiap varian data\n",
    "n_control = d_control.shape[0]\n",
    "n_exposed = d_exposed.shape[0]\n",
    "n_total = data.shape[0]"
   ]
  },
  {
   "cell_type": "code",
   "execution_count": 45,
   "id": "8132e0fb",
   "metadata": {
    "id": "8132e0fb"
   },
   "outputs": [],
   "source": [
    "#Menghitung persentase sampel untuk tiap varian data\n",
    "perc_control = n_control/n_total*100\n",
    "perc_exposed = n_exposed/n_total*100"
   ]
  },
  {
   "cell_type": "code",
   "execution_count": 46,
   "id": "37ff3dc9",
   "metadata": {
    "colab": {
     "base_uri": "https://localhost:8080/"
    },
    "id": "37ff3dc9",
    "outputId": "beb6f3af-1b2e-4c0f-af16-23d2c00dbdb7"
   },
   "outputs": [
    {
     "name": "stdout",
     "output_type": "stream",
     "text": [
      "Jumlah data user varian control : 50.40%\n",
      "Jumlah data user varian exposed : 49.60%\n"
     ]
    }
   ],
   "source": [
    "print(f\"Jumlah data user varian control : {perc_control:.2f}%\")\n",
    "print(f\"Jumlah data user varian exposed : {perc_exposed:.2f}%\")"
   ]
  },
  {
   "cell_type": "markdown",
   "id": "87e3a6bb",
   "metadata": {
    "id": "87e3a6bb"
   },
   "source": [
    "### Cek Sampling Ratio Mismatch dengan Chi- Squared test"
   ]
  },
  {
   "cell_type": "markdown",
   "id": "969b52a3",
   "metadata": {
    "id": "969b52a3"
   },
   "source": [
    "H0 : Tidak terdapat Sampling Ratio Mismatch\n",
    "\n",
    "H1 : Terdapat Sampling Ratio Mismatch"
   ]
  },
  {
   "cell_type": "code",
   "execution_count": 47,
   "id": "62690f5e",
   "metadata": {
    "id": "62690f5e"
   },
   "outputs": [],
   "source": [
    "#Menghitung total observasi dan sampel yang diharapkan (50:50)\n",
    "observed = [n_control, n_exposed]\n",
    "total_traffic= sum(observed)\n",
    "expected = [ total_traffic/2, total_traffic/2 ]"
   ]
  },
  {
   "cell_type": "code",
   "execution_count": 48,
   "id": "93db7702",
   "metadata": {
    "colab": {
     "base_uri": "https://localhost:8080/"
    },
    "id": "93db7702",
    "outputId": "eb96a2e1-a59f-4424-95eb-51320233fbcf"
   },
   "outputs": [
    {
     "name": "stdout",
     "output_type": "stream",
     "text": [
      "0.5230902562832735\n"
     ]
    }
   ],
   "source": [
    "#Menghitung chi-square statistics\n",
    "from scipy.stats import chisquare\n",
    "chi,_ = chisquare(observed, f_exp=expected)\n",
    "print(chi)"
   ]
  },
  {
   "cell_type": "code",
   "execution_count": 49,
   "id": "5a4459ea",
   "metadata": {
    "colab": {
     "base_uri": "https://localhost:8080/"
    },
    "id": "5a4459ea",
    "outputId": "b517587a-8b29-4669-a87c-e2cb72ad1374"
   },
   "outputs": [
    {
     "name": "stdout",
     "output_type": "stream",
     "text": [
      "Critical value: 6.635\n"
     ]
    }
   ],
   "source": [
    "alpha = 0.01\n",
    "df=(2-1)*(2-1)\n",
    "\n",
    "import scipy\n",
    "#Menghitung chi-square critical\n",
    "chi_critical = scipy.stats.chi2.ppf(1 - alpha, df)\n",
    "print(f\"Critical value: {chi_critical:.3f}\")"
   ]
  },
  {
   "cell_type": "code",
   "execution_count": 50,
   "id": "1oIckQ8XT8OU",
   "metadata": {
    "colab": {
     "base_uri": "https://localhost:8080/"
    },
    "id": "1oIckQ8XT8OU",
    "outputId": "c6d4be81-9ffb-4954-920f-222dec60147a"
   },
   "outputs": [
    {
     "name": "stdout",
     "output_type": "stream",
     "text": [
      "P value: 0.470\n"
     ]
    }
   ],
   "source": [
    "pvalue = scipy.stats.chi2.sf(chi,df)\n",
    "print(f\"P value: {pvalue:.3f}\")"
   ]
  },
  {
   "cell_type": "code",
   "execution_count": 51,
   "id": "2bac612f",
   "metadata": {
    "colab": {
     "base_uri": "https://localhost:8080/"
    },
    "id": "2bac612f",
    "outputId": "96156eb1-a128-46e3-f3d0-ad6441988951"
   },
   "outputs": [
    {
     "name": "stdout",
     "output_type": "stream",
     "text": [
      "Fail to reject H0 : No SRM\n"
     ]
    }
   ],
   "source": [
    "#Merumuskan aturan keputusan berdasarkan nilai chi-square\n",
    "if chi > chi_critical:\n",
    "  print(\"Reject H0 : SRM may be present.\")\n",
    "else:\n",
    "  print(\"Fail to reject H0 : No SRM\")"
   ]
  },
  {
   "cell_type": "code",
   "execution_count": 52,
   "id": "952b77c9",
   "metadata": {
    "colab": {
     "base_uri": "https://localhost:8080/"
    },
    "id": "952b77c9",
    "outputId": "71b43a74-fc37-405f-ba0b-5b267c771e5c"
   },
   "outputs": [
    {
     "name": "stdout",
     "output_type": "stream",
     "text": [
      "Fail to reject H0 : No SRM.\n"
     ]
    }
   ],
   "source": [
    "#Merumuskan aturan keputusan berdasarkan perbandingan nilai P-Value dengan alpha.\n",
    "if pvalue < alpha:\n",
    "    print('Reject H0 : SRM may be present.')\n",
    "else:\n",
    "    print('Fail to reject H0 : No SRM.')"
   ]
  },
  {
   "cell_type": "markdown",
   "id": "e2904801",
   "metadata": {
    "id": "e2904801"
   },
   "source": [
    "### Melakukan A/B Testing"
   ]
  },
  {
   "cell_type": "markdown",
   "id": "44273859",
   "metadata": {
    "id": "44273859"
   },
   "source": [
    "#### Mendefinisikan Hipotesis\n",
    "\n",
    "H0 : BIO Questionnaire response_rates pada Online Interactive Ads ≤ Static Ads\n",
    "\n",
    "H1 : BIO Questionnaire response_rates pada Online Interactive Ads > Static Ads"
   ]
  },
  {
   "cell_type": "code",
   "execution_count": 53,
   "id": "a93c3e4f",
   "metadata": {
    "id": "a93c3e4f"
   },
   "outputs": [],
   "source": [
    "def extract_evaluation(data):\n",
    "    # Number of session\n",
    "    n_session = int(data.shape[0])\n",
    "\n",
    "    # Number of fill\n",
    "    n_fill = int(data[\"fill_quest\"].sum())\n",
    "\n",
    "    # response_rate (in percent)\n",
    "    response_rate = (n_fill/n_session) * 100\n",
    "\n",
    "    # Return results\n",
    "    results = {}\n",
    "    results[\"session\"] = n_session\n",
    "    results[\"n_questionnaire_filled\"] = n_fill\n",
    "    results[\"response_rate\"] = np.round(response_rate, 2)\n",
    "\n",
    "    return results"
   ]
  },
  {
   "cell_type": "code",
   "execution_count": 54,
   "id": "7495d3ac",
   "metadata": {
    "id": "7495d3ac"
   },
   "outputs": [],
   "source": [
    "control_result = extract_evaluation(data = d_control)\n",
    "exposed_result = extract_evaluation(data = d_exposed)"
   ]
  },
  {
   "cell_type": "code",
   "execution_count": 55,
   "id": "66caab36",
   "metadata": {
    "colab": {
     "base_uri": "https://localhost:8080/"
    },
    "id": "66caab36",
    "outputId": "b41d835f-78ed-4607-9811-44706e00464a"
   },
   "outputs": [
    {
     "name": "stdout",
     "output_type": "stream",
     "text": [
      "CONTROL: {'session': 4071, 'n_questionnaire_filled': 264, 'response_rate': 6.48}\n",
      "EXPOSED: {'session': 4006, 'n_questionnaire_filled': 308, 'response_rate': 7.69}\n"
     ]
    }
   ],
   "source": [
    "print(f\"CONTROL: {control_result}\")\n",
    "print(f\"EXPOSED: {exposed_result}\")"
   ]
  },
  {
   "cell_type": "code",
   "execution_count": 56,
   "id": "n4Qh3vEWlhqT",
   "metadata": {
    "colab": {
     "base_uri": "https://localhost:8080/",
     "height": 112
    },
    "id": "n4Qh3vEWlhqT",
    "outputId": "756441c9-9462-4e34-a998-2284d9378487"
   },
   "outputs": [
    {
     "data": {
      "text/html": [
       "<div>\n",
       "<style scoped>\n",
       "    .dataframe tbody tr th:only-of-type {\n",
       "        vertical-align: middle;\n",
       "    }\n",
       "\n",
       "    .dataframe tbody tr th {\n",
       "        vertical-align: top;\n",
       "    }\n",
       "\n",
       "    .dataframe thead th {\n",
       "        text-align: right;\n",
       "    }\n",
       "</style>\n",
       "<table border=\"1\" class=\"dataframe\">\n",
       "  <thead>\n",
       "    <tr style=\"text-align: right;\">\n",
       "      <th></th>\n",
       "      <th>session</th>\n",
       "      <th>n_questionnaire_filled</th>\n",
       "      <th>response_rate</th>\n",
       "    </tr>\n",
       "  </thead>\n",
       "  <tbody>\n",
       "    <tr>\n",
       "      <th>Control</th>\n",
       "      <td>4071</td>\n",
       "      <td>264</td>\n",
       "      <td>6.48</td>\n",
       "    </tr>\n",
       "    <tr>\n",
       "      <th>Exposed</th>\n",
       "      <td>4006</td>\n",
       "      <td>308</td>\n",
       "      <td>7.69</td>\n",
       "    </tr>\n",
       "  </tbody>\n",
       "</table>\n",
       "</div>"
      ],
      "text/plain": [
       "         session  n_questionnaire_filled  response_rate\n",
       "Control     4071                     264           6.48\n",
       "Exposed     4006                     308           7.69"
      ]
     },
     "execution_count": 56,
     "metadata": {},
     "output_type": "execute_result"
    }
   ],
   "source": [
    "result1 = pd.DataFrame(data = [control_result,\n",
    "                                      exposed_result],\n",
    "                              index = [\"Control\", \"Exposed\"])\n",
    "result1"
   ]
  },
  {
   "cell_type": "code",
   "execution_count": 57,
   "id": "99c89ab3",
   "metadata": {
    "colab": {
     "base_uri": "https://localhost:8080/"
    },
    "id": "99c89ab3",
    "outputId": "39f7cf28-b70a-4fde-e2bc-9856fb783db8"
   },
   "outputs": [
    {
     "data": {
      "text/plain": [
       "1.21"
      ]
     },
     "execution_count": 57,
     "metadata": {},
     "output_type": "execute_result"
    }
   ],
   "source": [
    "lift = exposed_result[\"response_rate\"] - control_result[\"response_rate\"]\n",
    "lift"
   ]
  },
  {
   "cell_type": "code",
   "execution_count": 58,
   "id": "6ad098c0",
   "metadata": {
    "colab": {
     "base_uri": "https://localhost:8080/",
     "height": 666
    },
    "id": "6ad098c0",
    "outputId": "13c880ce-6a90-4769-81b9-b0383ac0f5f9"
   },
   "outputs": [
    {
     "name": "stderr",
     "output_type": "stream",
     "text": [
      "C:\\Users\\Microsoft\\AppData\\Local\\Temp\\ipykernel_8312\\385534412.py:11: UserWarning: FixedFormatter should only be used together with FixedLocator\n",
      "  ax.set_xticklabels(labels=[\"control\", \"exposed\"], fontsize=16)\n"
     ]
    },
    {
     "data": {
      "image/png": "[encoded data removed]",
      "text/plain": [
       "<Figure size 1000x700 with 1 Axes>"
      ]
     },
     "metadata": {},
     "output_type": "display_data"
    }
   ],
   "source": [
    "# visualisasi perbandingan Questionnaire filled rate tiap varian\n",
    "fig, ax = plt.subplots(nrows=1, ncols=1, figsize=(10, 7))\n",
    "\n",
    "# Buat plot\n",
    "ax.bar(\"Control\", control_result[\"response_rate\"], color=\"steelblue\", label=\"Control\")\n",
    "ax.bar(\"Exposed\", exposed_result[\"response_rate\"], color=\"lightcoral\", label=\"Exposed\")\n",
    "\n",
    "# Styling plot\n",
    "ax.set_ylabel(\"Questionnaire Response Rate\", fontsize=16)\n",
    "ax.set_xlabel(\"Group\", fontsize=16)\n",
    "ax.set_xticklabels(labels=[\"control\", \"exposed\"], fontsize=16)\n",
    "ax.legend(fontsize=16)\n",
    "plt.show()"
   ]
  },
  {
   "cell_type": "code",
   "execution_count": 59,
   "id": "fcf58b48",
   "metadata": {
    "id": "fcf58b48"
   },
   "outputs": [],
   "source": [
    "#Mendefinisikan function untuk melakukan Uji Statistik menghitung p-value\n",
    "def calculate_pval(exposed,control):\n",
    "    counts = [exposed_result[\"n_questionnaire_filled\"], control_result[\"n_questionnaire_filled\"]]\n",
    "    obs = [exposed_result[\"session\"], control_result[\"session\"]]\n",
    "\n",
    "    zstat, pval = proportion.proportions_ztest(count = counts,\n",
    "                                           nobs = obs,\n",
    "                                           alternative = \"larger\")\n",
    "    return zstat, pval"
   ]
  },
  {
   "cell_type": "code",
   "execution_count": 60,
   "id": "693309f0",
   "metadata": {
    "id": "693309f0"
   },
   "outputs": [],
   "source": [
    "zstat, pval = calculate_pval(exposed = exposed_result,\n",
    "                       control = control_result)"
   ]
  },
  {
   "cell_type": "code",
   "execution_count": 61,
   "id": "be9abe24",
   "metadata": {
    "colab": {
     "base_uri": "https://localhost:8080/"
    },
    "id": "be9abe24",
    "outputId": "0832bdcb-dbd9-4e5a-f3d7-741af4da16d1"
   },
   "outputs": [
    {
     "data": {
      "text/plain": [
       "0.017502912984162258"
      ]
     },
     "execution_count": 61,
     "metadata": {},
     "output_type": "execute_result"
    }
   ],
   "source": [
    "pval"
   ]
  },
  {
   "cell_type": "code",
   "execution_count": 62,
   "id": "8a860680",
   "metadata": {
    "colab": {
     "base_uri": "https://localhost:8080/"
    },
    "id": "8a860680",
    "outputId": "2d94fff1-8876-4474-986a-2a668429ef63"
   },
   "outputs": [
    {
     "name": "stdout",
     "output_type": "stream",
     "text": [
      "Tolak H0\n"
     ]
    }
   ],
   "source": [
    "#Merumuskan aturan keputusan berdasarkan p_value dan alpha\n",
    "alpha = 0.05\n",
    "if pval < alpha:\n",
    "    print(\"Tolak H0\")\n",
    "else:\n",
    "    print(\"Tidak memiliki bukti cukup untuk menolak H0\")"
   ]
  },
  {
   "cell_type": "code",
   "execution_count": 63,
   "id": "c786cca2",
   "metadata": {
    "colab": {
     "base_uri": "https://localhost:8080/"
    },
    "id": "c786cca2",
    "outputId": "eff54314-c819-4b7b-ad73-8ba36c5740fa"
   },
   "outputs": [
    {
     "data": {
      "text/plain": [
       "2.108290999972843"
      ]
     },
     "execution_count": 63,
     "metadata": {},
     "output_type": "execute_result"
    }
   ],
   "source": [
    "zstat"
   ]
  },
  {
   "cell_type": "code",
   "execution_count": 64,
   "id": "1b5ca47e",
   "metadata": {
    "id": "1b5ca47e"
   },
   "outputs": [],
   "source": [
    "z_critical = stats.norm.ppf(1-alpha)"
   ]
  },
  {
   "cell_type": "code",
   "execution_count": 65,
   "id": "6595a73f",
   "metadata": {
    "colab": {
     "base_uri": "https://localhost:8080/"
    },
    "id": "6595a73f",
    "outputId": "e425cc01-ea9a-40bf-d3c9-e487ada8855f"
   },
   "outputs": [
    {
     "data": {
      "text/plain": [
       "1.6448536269514722"
      ]
     },
     "execution_count": 65,
     "metadata": {},
     "output_type": "execute_result"
    }
   ],
   "source": [
    "z_critical"
   ]
  },
  {
   "cell_type": "code",
   "execution_count": 66,
   "id": "12f3f429",
   "metadata": {
    "colab": {
     "base_uri": "https://localhost:8080/"
    },
    "id": "12f3f429",
    "outputId": "e3414097-3532-4e79-9013-22678442ea4b"
   },
   "outputs": [
    {
     "name": "stdout",
     "output_type": "stream",
     "text": [
      "Tolak H0\n"
     ]
    }
   ],
   "source": [
    "#Merumuskan aturan keputusan berdasarkan Z statistics dan Z critical\n",
    "if zstat > z_critical:\n",
    "    print(\"Tolak H0\")\n",
    "else:\n",
    "    print(\"Tidak memiliki bukti cukup untuk menolak H0\")"
   ]
  },
  {
   "cell_type": "code",
   "execution_count": 67,
   "id": "c2afcd3e",
   "metadata": {
    "colab": {
     "base_uri": "https://localhost:8080/",
     "height": 654
    },
    "id": "c2afcd3e",
    "outputId": "7045977a-9542-4217-df9a-c48e4ef9f8fc"
   },
   "outputs": [
    {
     "data": {
      "image/png": "[encoded data removed]",
      "text/plain": [
       "<Figure size 1000x700 with 1 Axes>"
      ]
     },
     "metadata": {},
     "output_type": "display_data"
    },
    {
     "name": "stdout",
     "output_type": "stream",
     "text": [
      "z statistics : 2.1083\n",
      "z critical : 1.6449\n"
     ]
    }
   ],
   "source": [
    "fig = plt.subplots(nrows=1, ncols=1, figsize=(10, 7))\n",
    "\n",
    "# plot sample distribution\n",
    "x = np.arange(-3, 3, 0.001)\n",
    "plt.plot(x, stats.norm.pdf(x, 0, 1),\n",
    "         color='blue')\n",
    "\n",
    "# plot alpha region\n",
    "x_alpha = np.arange(z_critical,3, 0.01)\n",
    "y_alpha = stats.norm.pdf(x_alpha)\n",
    "plt.fill_between(x = x_alpha,\n",
    "                 y1 = y_alpha,\n",
    "                 facecolor = 'red',\n",
    "                 alpha = 0.35,\n",
    "                 label = 'alpha')\n",
    "\n",
    "# plot pvalue\n",
    "x_pvalue = np.arange(zstat,3, 0.01)\n",
    "y_pvalue = stats.norm.pdf(x_pvalue)\n",
    "plt.fill_between(x = x_pvalue,\n",
    "                 y1 = y_pvalue,\n",
    "                 facecolor = 'green',\n",
    "                 alpha = 0.35,\n",
    "                 label = 'pvalue')\n",
    "\n",
    "# plot z-crit and z-stats\n",
    "plt.axvline(np.round(zstat, 3),\n",
    "            color =\"green\",\n",
    "            linestyle = \"--\",\n",
    "            label =\"z-stat\")\n",
    "\n",
    "plt.axvline(z_critical,\n",
    "            color =\"red\",\n",
    "            linestyle = \"--\",\n",
    "            label =\"z-crit\")\n",
    "\n",
    "plt.legend()\n",
    "plt.xlabel(\"z\")\n",
    "plt.ylabel(\"density\")\n",
    "plt.show()\n",
    "\n",
    "print(f\"z statistics : {zstat:.4f}\")\n",
    "print(f\"z critical : {z_critical:.4f}\")"
   ]
  },
  {
   "cell_type": "code",
   "execution_count": 68,
   "id": "503cbbca",
   "metadata": {
    "colab": {
     "base_uri": "https://localhost:8080/"
    },
    "id": "503cbbca",
    "outputId": "88d67b72-909b-4662-fd46-2c6b0ea46277"
   },
   "outputs": [
    {
     "name": "stdout",
     "output_type": "stream",
     "text": [
      "(0.0008398362969589592, 0.023274457406590773)\n"
     ]
    }
   ],
   "source": [
    "from statsmodels.stats.proportion import confint_proportions_2indep\n",
    "\n",
    "confidence_interval = confint_proportions_2indep(count1 = exposed_result[\"n_questionnaire_filled\"],\n",
    "                                                 nobs1 = exposed_result[\"session\"],\n",
    "                                                 count2 = control_result[\"n_questionnaire_filled\"],\n",
    "                                                 nobs2 = control_result[\"session\"],\n",
    "                                                 compare='diff', alpha=0.05)\n",
    "print(confidence_interval)"
   ]
  },
  {
   "cell_type": "markdown",
   "id": "8cfae516",
   "metadata": {
    "id": "8cfae516"
   },
   "source": [
    "Berdasarkan hasil tersebut, kita yakin 95% bahwa selisih atau difference proporsi user yang mengisi kuisioner (response_rate) pada grup exposed dan control terletak antara 0.08% dan 2,32%."
   ]
  },
  {
   "cell_type": "markdown",
   "id": "25b933ab",
   "metadata": {
    "id": "25b933ab"
   },
   "source": [
    "Berdasarkan hasil statistical test hasilnya adalah statistically significant, namun untuk membuat keputusan apakah akan menggunakan iklan interaktif atau tidak, harus dipastikan apakah secara practically sigificant seperti biaya untuk menerapkan iklan interaktif"
   ]
  },
  {
   "cell_type": "code",
   "execution_count": 69,
   "id": "ea8435bb",
   "metadata": {
    "id": "ea8435bb"
   },
   "outputs": [],
   "source": [
    "#Membuat fungsi untuk menentukan posterior distribution\n",
    "def generate_posterior(results):\n",
    "    n_trial = results[\"session\"]\n",
    "    n_success = results[\"n_questionnaire_filled\"]\n",
    "    n_fail = n_trial - n_success\n",
    "    posterior = stats.beta.rvs(a = 1 + n_success,\n",
    "                               b = 1 + (n_trial-n_success),\n",
    "                               size = 10_000)\n",
    "    return posterior"
   ]
  },
  {
   "cell_type": "code",
   "execution_count": 70,
   "id": "2e6a895b",
   "metadata": {
    "id": "2e6a895b"
   },
   "outputs": [],
   "source": [
    "#Menghitung posterior untuk varian control dan exposed\n",
    "control_posterior = generate_posterior(results = control_result)\n",
    "exposed_posterior = generate_posterior(results = exposed_result)"
   ]
  },
  {
   "cell_type": "code",
   "execution_count": 71,
   "id": "2d29d973",
   "metadata": {
    "colab": {
     "base_uri": "https://localhost:8080/",
     "height": 625
    },
    "id": "2d29d973",
    "outputId": "dcbef13f-5b1b-4754-b42a-0f113ae01b06"
   },
   "outputs": [
    {
     "data": {
      "image/png": "[encoded data removed]",
      "text/plain": [
       "<Figure size 1000x700 with 1 Axes>"
      ]
     },
     "metadata": {},
     "output_type": "display_data"
    }
   ],
   "source": [
    "#Plot Hasil\n",
    "fig, ax = plt.subplots(nrows = 1, ncols = 1, figsize = (10, 7))\n",
    "\n",
    "sns.kdeplot(data = control_posterior,\n",
    "            color = \"blue\",\n",
    "            label = \"Control\",\n",
    "            fill = True,\n",
    "            alpha = 0.1,\n",
    "            ax = ax)\n",
    "sns.kdeplot(data = exposed_posterior,\n",
    "            color = \"red\",\n",
    "            label = \"Exposed\",\n",
    "            fill = True,\n",
    "            alpha = 0.1,\n",
    "            ax = ax)\n",
    "\n",
    "ax.set_ylabel(\"Probability Density\", fontsize=16)\n",
    "ax.set_xlabel(\"response_rate\", fontsize=16)\n",
    "plt.legend()\n",
    "plt.show()"
   ]
  },
  {
   "cell_type": "markdown",
   "id": "fcfe8601",
   "metadata": {
    "id": "fcfe8601"
   },
   "source": [
    "response_rate varian exposed > kontrol karena grafik exposed ada di sebelah kanan"
   ]
  },
  {
   "cell_type": "code",
   "execution_count": 72,
   "id": "0419d986",
   "metadata": {
    "id": "0419d986"
   },
   "outputs": [],
   "source": [
    "exposed_win = exposed_posterior-control_posterior"
   ]
  },
  {
   "cell_type": "code",
   "execution_count": 73,
   "id": "4920f834",
   "metadata": {
    "colab": {
     "base_uri": "https://localhost:8080/",
     "height": 656
    },
    "id": "4920f834",
    "outputId": "ca187057-a0d5-42ee-ad1b-3445e4055807"
   },
   "outputs": [
    {
     "data": {
      "image/png": "[encoded data removed]",
      "text/plain": [
       "<Figure size 1000x700 with 1 Axes>"
      ]
     },
     "metadata": {},
     "output_type": "display_data"
    }
   ],
   "source": [
    "# Plot the results\n",
    "fig, ax = plt.subplots(nrows = 1, ncols = 1, figsize = (10, 7))\n",
    "\n",
    "sns.kdeplot(data = exposed_win,\n",
    "            color = \"red\",\n",
    "            label = \"Exposed\",\n",
    "            fill = True,\n",
    "            alpha = 0.1,\n",
    "            ax = ax)\n",
    "ax.axvline(0.0000, color = \"blue\", linestyle=\"--\")\n",
    "\n",
    "ax.set_title(\"Posterior Simulation of Difference\", fontsize=20)\n",
    "ax.set_ylabel(\"Probability Density\", fontsize=16)\n",
    "ax.set_xlabel(\"Questionnaire response_rate Difference (Exposed-control)\", fontsize=16)\n",
    "plt.legend()\n",
    "plt.show()"
   ]
  },
  {
   "cell_type": "code",
   "execution_count": 74,
   "id": "955a8280",
   "metadata": {
    "colab": {
     "base_uri": "https://localhost:8080/"
    },
    "id": "955a8280",
    "outputId": "33be2267-1a3f-4833-8b92-ab099d7ac1ec"
   },
   "outputs": [
    {
     "data": {
      "text/plain": [
       "98.19"
      ]
     },
     "execution_count": 74,
     "metadata": {},
     "output_type": "execute_result"
    }
   ],
   "source": [
    "# Menghitung probability to be best (pbb) - dalam percent\n",
    "exposed_pbb = (exposed_win > 0.0).mean() * 100\n",
    "exposed_pbb"
   ]
  },
  {
   "cell_type": "code",
   "execution_count": 75,
   "id": "0e17981c",
   "metadata": {
    "colab": {
     "base_uri": "https://localhost:8080/"
    },
    "id": "0e17981c",
    "outputId": "89426aee-ee60-4409-d3e2-0e0e2a5c15b9"
   },
   "outputs": [
    {
     "data": {
      "text/plain": [
       "1.8100000000000023"
      ]
     },
     "execution_count": 75,
     "metadata": {},
     "output_type": "execute_result"
    }
   ],
   "source": [
    "#Menghitung pbb control\n",
    "control_pbb = 100 - exposed_pbb\n",
    "control_pbb"
   ]
  },
  {
   "cell_type": "code",
   "execution_count": 76,
   "id": "2a75ed7b",
   "metadata": {
    "id": "2a75ed7b"
   },
   "outputs": [],
   "source": [
    "#Menambahkan hasil PBB ke data control dan exposed\n",
    "control_result[\"PBB\"] = control_pbb\n",
    "exposed_result[\"PBB\"] = exposed_pbb"
   ]
  },
  {
   "cell_type": "code",
   "execution_count": 77,
   "id": "7710f245",
   "metadata": {
    "colab": {
     "base_uri": "https://localhost:8080/"
    },
    "id": "7710f245",
    "outputId": "8920aaad-e44e-46fa-fcfb-405ff341a1eb"
   },
   "outputs": [
    {
     "name": "stdout",
     "output_type": "stream",
     "text": [
      "CONTROL: {'session': 4071, 'n_questionnaire_filled': 264, 'response_rate': 6.48, 'PBB': 1.8100000000000023}\n",
      "TREATMENT: {'session': 4006, 'n_questionnaire_filled': 308, 'response_rate': 7.69, 'PBB': 98.19}\n"
     ]
    }
   ],
   "source": [
    "print(f\"CONTROL: {control_result}\")\n",
    "print(f\"TREATMENT: {exposed_result}\")"
   ]
  },
  {
   "cell_type": "code",
   "execution_count": 78,
   "id": "be2d9e85",
   "metadata": {
    "id": "be2d9e85"
   },
   "outputs": [],
   "source": [
    "summary_data = pd.DataFrame(data = [control_result, exposed_result], index = [\"Control\", \"Exposed\"])"
   ]
  },
  {
   "cell_type": "code",
   "execution_count": 79,
   "id": "5d8f9fe5",
   "metadata": {
    "colab": {
     "base_uri": "https://localhost:8080/",
     "height": 112
    },
    "id": "5d8f9fe5",
    "outputId": "bb8ce888-104e-46b3-d156-3cad8ac1c2a9"
   },
   "outputs": [
    {
     "data": {
      "text/html": [
       "<div>\n",
       "<style scoped>\n",
       "    .dataframe tbody tr th:only-of-type {\n",
       "        vertical-align: middle;\n",
       "    }\n",
       "\n",
       "    .dataframe tbody tr th {\n",
       "        vertical-align: top;\n",
       "    }\n",
       "\n",
       "    .dataframe thead th {\n",
       "        text-align: right;\n",
       "    }\n",
       "</style>\n",
       "<table border=\"1\" class=\"dataframe\">\n",
       "  <thead>\n",
       "    <tr style=\"text-align: right;\">\n",
       "      <th></th>\n",
       "      <th>session</th>\n",
       "      <th>n_questionnaire_filled</th>\n",
       "      <th>response_rate</th>\n",
       "      <th>PBB</th>\n",
       "    </tr>\n",
       "  </thead>\n",
       "  <tbody>\n",
       "    <tr>\n",
       "      <th>Control</th>\n",
       "      <td>4071</td>\n",
       "      <td>264</td>\n",
       "      <td>6.48</td>\n",
       "      <td>1.81</td>\n",
       "    </tr>\n",
       "    <tr>\n",
       "      <th>Exposed</th>\n",
       "      <td>4006</td>\n",
       "      <td>308</td>\n",
       "      <td>7.69</td>\n",
       "      <td>98.19</td>\n",
       "    </tr>\n",
       "  </tbody>\n",
       "</table>\n",
       "</div>"
      ],
      "text/plain": [
       "         session  n_questionnaire_filled  response_rate    PBB\n",
       "Control     4071                     264           6.48   1.81\n",
       "Exposed     4006                     308           7.69  98.19"
      ]
     },
     "execution_count": 79,
     "metadata": {},
     "output_type": "execute_result"
    }
   ],
   "source": [
    "summary_data"
   ]
  },
  {
   "cell_type": "markdown",
   "id": "595407e6",
   "metadata": {
    "id": "595407e6"
   },
   "source": [
    "### Menggabungkan seluruh fungsi"
   ]
  },
  {
   "cell_type": "code",
   "execution_count": 80,
   "id": "4206b029",
   "metadata": {
    "id": "4206b029"
   },
   "outputs": [],
   "source": [
    "#Mendefinisikan function untuk mengelompokkan data tiap varian\n",
    "def split_data(data):\n",
    "    data = data.copy()\n",
    "    df_control = data[data[\"experiment\"]=='control']\n",
    "    df_exposed = data[data[\"experiment\"]=='exposed']\n",
    "    return df_control, df_exposed"
   ]
  },
  {
   "cell_type": "code",
   "execution_count": 81,
   "id": "9449ff75",
   "metadata": {
    "id": "9449ff75"
   },
   "outputs": [],
   "source": [
    "#Mendefinisikan function untuk menghitung metrik yang diamati\n",
    "def extract_evaluation(data):\n",
    "    # Number of session\n",
    "    n_session = int(data.shape[0])\n",
    "\n",
    "    # Number of fill\n",
    "    n_fill = int(data[\"fill_quest\"].sum())\n",
    "\n",
    "    # response_rate (in percent)\n",
    "    response_rate = (n_fill/n_session) * 100\n",
    "\n",
    "    # Return results\n",
    "    results = {}\n",
    "    results[\"session\"] = n_session\n",
    "    results[\"n_questionnaire_filled\"] = n_fill\n",
    "    results[\"response_rate\"] = np.round(response_rate, 2)\n",
    "\n",
    "    return results"
   ]
  },
  {
   "cell_type": "code",
   "execution_count": 82,
   "id": "334a2bea",
   "metadata": {
    "id": "334a2bea"
   },
   "outputs": [],
   "source": [
    "#Mendefinisikan function untuk melakukan Uji Statistik menghitung p-value\n",
    "def calculate_pval(exposed_result,control_result):\n",
    "    counts = [exposed_result[\"n_questionnaire_filled\"], control_result[\"n_questionnaire_filled\"]]\n",
    "    obs = [exposed_result[\"session\"], control_result[\"session\"]]\n",
    "\n",
    "    _,pvalue = proportion.proportions_ztest(count = counts,\n",
    "                                           nobs = obs,\n",
    "                                           alternative = \"larger\")\n",
    "    return pvalue"
   ]
  },
  {
   "cell_type": "code",
   "execution_count": 83,
   "id": "564b7d15",
   "metadata": {
    "id": "564b7d15"
   },
   "outputs": [],
   "source": [
    "#Mendefinisikan function untuk menentukan posterior distribution\n",
    "def generate_posterior(results):\n",
    "    n_trial = results[\"session\"]\n",
    "    n_success = results[\"n_questionnaire_filled\"]\n",
    "    n_fail = n_trial - n_success\n",
    "    posterior = stats.beta.rvs(a = 1 + n_success,\n",
    "                               b = 1 + (n_trial-n_success),\n",
    "                               size = 10_000)\n",
    "    return posterior"
   ]
  },
  {
   "cell_type": "code",
   "execution_count": 84,
   "id": "6f48c2c9",
   "metadata": {
    "id": "6f48c2c9"
   },
   "outputs": [],
   "source": [
    "def calculate_pbb(control_result, exposed_result):\n",
    "    # Menghitung posterior masing-masing varian\n",
    "    control_posterior = generate_posterior(results = control_result)\n",
    "    exposed_posterior = generate_posterior(results = exposed_result)\n",
    "\n",
    "    #Menghitung winner varian exposed\n",
    "    exposed_win = exposed_posterior-control_posterior\n",
    "\n",
    "    #Menghitung probability to be best\n",
    "    exposed_pbb = (exposed_win > 0.0).mean() * 100\n",
    "    control_pbb = 100 - exposed_pbb\n",
    "\n",
    "    #Menambahkan hasil PBB ke data control dan exposed\n",
    "    control_result[\"PBB\"] = control_pbb\n",
    "    exposed_result[\"PBB\"] = exposed_pbb\n",
    "\n",
    "    return control_result, exposed_result\n"
   ]
  },
  {
   "cell_type": "code",
   "execution_count": 85,
   "id": "4f230b51",
   "metadata": {
    "id": "4f230b51"
   },
   "outputs": [],
   "source": [
    "def summary_results(data):\n",
    "    #Pengelompokan data tiap varian\n",
    "    df_control, df_exposed = split_data(data = data)\n",
    "\n",
    "    #Menghitung metrik yang akan dievaluasi\n",
    "    control_result = extract_evaluation(data = df_control)\n",
    "    exposed_result = extract_evaluation(data = df_exposed)\n",
    "\n",
    "    # Menghitung lift over baseline (uplift) -- absolute in percent\n",
    "    lift = exposed_result[\"response_rate\"] - control_result[\"response_rate\"]\n",
    "    control_result[\"lift\"] = \"---\"\n",
    "    exposed_result[\"lift\"] = np.round(lift, 2)\n",
    "\n",
    "    #Menghitung p-value\n",
    "    pvalue = calculate_pval(exposed_result = exposed_result,\n",
    "                       control_result = control_result)\n",
    "    control_result[\"p-value\"] = \"---\"\n",
    "    exposed_result[\"p-value\"] = np.round(pvalue, 2)\n",
    "\n",
    "    #Menghitung Probability to Be Best (PBB)\n",
    "    control_result, exposed_result = calculate_pbb(control_result = control_result,\n",
    "                                               exposed_result = exposed_result)\n",
    "\n",
    "    #Membuat dataframe\n",
    "    summary_df = pd.DataFrame(data = [control_result,\n",
    "                                      exposed_result],\n",
    "                              index = [\"Control\", \"Exposed\"])\n",
    "\n",
    "    return summary_df"
   ]
  },
  {
   "cell_type": "code",
   "execution_count": 86,
   "id": "22415f26",
   "metadata": {
    "colab": {
     "base_uri": "https://localhost:8080/",
     "height": 112
    },
    "id": "22415f26",
    "outputId": "301450a0-58f3-4a72-b7b6-53c5ba78e25f"
   },
   "outputs": [
    {
     "data": {
      "text/html": [
       "<div>\n",
       "<style scoped>\n",
       "    .dataframe tbody tr th:only-of-type {\n",
       "        vertical-align: middle;\n",
       "    }\n",
       "\n",
       "    .dataframe tbody tr th {\n",
       "        vertical-align: top;\n",
       "    }\n",
       "\n",
       "    .dataframe thead th {\n",
       "        text-align: right;\n",
       "    }\n",
       "</style>\n",
       "<table border=\"1\" class=\"dataframe\">\n",
       "  <thead>\n",
       "    <tr style=\"text-align: right;\">\n",
       "      <th></th>\n",
       "      <th>session</th>\n",
       "      <th>n_questionnaire_filled</th>\n",
       "      <th>response_rate</th>\n",
       "      <th>lift</th>\n",
       "      <th>p-value</th>\n",
       "      <th>PBB</th>\n",
       "    </tr>\n",
       "  </thead>\n",
       "  <tbody>\n",
       "    <tr>\n",
       "      <th>Control</th>\n",
       "      <td>4071</td>\n",
       "      <td>264</td>\n",
       "      <td>6.48</td>\n",
       "      <td>---</td>\n",
       "      <td>---</td>\n",
       "      <td>1.72</td>\n",
       "    </tr>\n",
       "    <tr>\n",
       "      <th>Exposed</th>\n",
       "      <td>4006</td>\n",
       "      <td>308</td>\n",
       "      <td>7.69</td>\n",
       "      <td>1.21</td>\n",
       "      <td>0.02</td>\n",
       "      <td>98.28</td>\n",
       "    </tr>\n",
       "  </tbody>\n",
       "</table>\n",
       "</div>"
      ],
      "text/plain": [
       "         session  n_questionnaire_filled  response_rate  lift p-value    PBB\n",
       "Control     4071                     264           6.48   ---     ---   1.72\n",
       "Exposed     4006                     308           7.69  1.21    0.02  98.28"
      ]
     },
     "execution_count": 86,
     "metadata": {},
     "output_type": "execute_result"
    }
   ],
   "source": [
    "summary_results(data = data)"
   ]
  },
  {
   "cell_type": "code",
   "execution_count": 87,
   "id": "9fd0fa43",
   "metadata": {
    "colab": {
     "base_uri": "https://localhost:8080/"
    },
    "id": "9fd0fa43",
    "outputId": "6091ffdb-cca0-4088-f28e-17d2761d5521"
   },
   "outputs": [
    {
     "data": {
      "text/plain": [
       "Chrome              6097\n",
       "Samsung Internet     824\n",
       "Facebook             764\n",
       "Safari               381\n",
       "Others                11\n",
       "Name: browser_type, dtype: int64"
      ]
     },
     "execution_count": 87,
     "metadata": {},
     "output_type": "execute_result"
    }
   ],
   "source": [
    "data[\"browser_type\"].value_counts()"
   ]
  },
  {
   "cell_type": "code",
   "execution_count": 88,
   "id": "9c88ce52",
   "metadata": {
    "colab": {
     "base_uri": "https://localhost:8080/",
     "height": 112
    },
    "id": "9c88ce52",
    "outputId": "8ad09a7e-3474-42dc-f50c-b0b0d90aa6cb"
   },
   "outputs": [
    {
     "data": {
      "text/html": [
       "<div>\n",
       "<style scoped>\n",
       "    .dataframe tbody tr th:only-of-type {\n",
       "        vertical-align: middle;\n",
       "    }\n",
       "\n",
       "    .dataframe tbody tr th {\n",
       "        vertical-align: top;\n",
       "    }\n",
       "\n",
       "    .dataframe thead th {\n",
       "        text-align: right;\n",
       "    }\n",
       "</style>\n",
       "<table border=\"1\" class=\"dataframe\">\n",
       "  <thead>\n",
       "    <tr style=\"text-align: right;\">\n",
       "      <th></th>\n",
       "      <th>session</th>\n",
       "      <th>n_questionnaire_filled</th>\n",
       "      <th>response_rate</th>\n",
       "      <th>lift</th>\n",
       "      <th>p-value</th>\n",
       "      <th>PBB</th>\n",
       "    </tr>\n",
       "  </thead>\n",
       "  <tbody>\n",
       "    <tr>\n",
       "      <th>Control</th>\n",
       "      <td>2737</td>\n",
       "      <td>163</td>\n",
       "      <td>5.96</td>\n",
       "      <td>---</td>\n",
       "      <td>---</td>\n",
       "      <td>0.07</td>\n",
       "    </tr>\n",
       "    <tr>\n",
       "      <th>Exposed</th>\n",
       "      <td>3360</td>\n",
       "      <td>269</td>\n",
       "      <td>8.01</td>\n",
       "      <td>2.05</td>\n",
       "      <td>0.0</td>\n",
       "      <td>99.93</td>\n",
       "    </tr>\n",
       "  </tbody>\n",
       "</table>\n",
       "</div>"
      ],
      "text/plain": [
       "         session  n_questionnaire_filled  response_rate  lift p-value    PBB\n",
       "Control     2737                     163           5.96   ---     ---   0.07\n",
       "Exposed     3360                     269           8.01  2.05     0.0  99.93"
      ]
     },
     "execution_count": 88,
     "metadata": {},
     "output_type": "execute_result"
    }
   ],
   "source": [
    "summary_results(data = data[data[\"browser_type\"] == \"Chrome\"])"
   ]
  },
  {
   "cell_type": "code",
   "execution_count": 89,
   "id": "6b39c5b1",
   "metadata": {
    "colab": {
     "base_uri": "https://localhost:8080/",
     "height": 112
    },
    "id": "6b39c5b1",
    "outputId": "55d8c4d7-1f32-4719-d350-ab69b529f223"
   },
   "outputs": [
    {
     "data": {
      "text/html": [
       "<div>\n",
       "<style scoped>\n",
       "    .dataframe tbody tr th:only-of-type {\n",
       "        vertical-align: middle;\n",
       "    }\n",
       "\n",
       "    .dataframe tbody tr th {\n",
       "        vertical-align: top;\n",
       "    }\n",
       "\n",
       "    .dataframe thead th {\n",
       "        text-align: right;\n",
       "    }\n",
       "</style>\n",
       "<table border=\"1\" class=\"dataframe\">\n",
       "  <thead>\n",
       "    <tr style=\"text-align: right;\">\n",
       "      <th></th>\n",
       "      <th>session</th>\n",
       "      <th>n_questionnaire_filled</th>\n",
       "      <th>response_rate</th>\n",
       "      <th>lift</th>\n",
       "      <th>p-value</th>\n",
       "      <th>PBB</th>\n",
       "    </tr>\n",
       "  </thead>\n",
       "  <tbody>\n",
       "    <tr>\n",
       "      <th>Control</th>\n",
       "      <td>492</td>\n",
       "      <td>45</td>\n",
       "      <td>9.15</td>\n",
       "      <td>---</td>\n",
       "      <td>---</td>\n",
       "      <td>90.01</td>\n",
       "    </tr>\n",
       "    <tr>\n",
       "      <th>Exposed</th>\n",
       "      <td>332</td>\n",
       "      <td>22</td>\n",
       "      <td>6.63</td>\n",
       "      <td>-2.52</td>\n",
       "      <td>0.9</td>\n",
       "      <td>9.99</td>\n",
       "    </tr>\n",
       "  </tbody>\n",
       "</table>\n",
       "</div>"
      ],
      "text/plain": [
       "         session  n_questionnaire_filled  response_rate  lift p-value    PBB\n",
       "Control      492                      45           9.15   ---     ---  90.01\n",
       "Exposed      332                      22           6.63 -2.52     0.9   9.99"
      ]
     },
     "execution_count": 89,
     "metadata": {},
     "output_type": "execute_result"
    }
   ],
   "source": [
    "summary_results(data = data[data[\"browser_type\"] == \"Samsung Internet\"])"
   ]
  },
  {
   "cell_type": "code",
   "execution_count": 90,
   "id": "f053353f",
   "metadata": {
    "colab": {
     "base_uri": "https://localhost:8080/",
     "height": 112
    },
    "id": "f053353f",
    "outputId": "859ed4e3-60d8-49a6-9803-ab70e2c5b5fa"
   },
   "outputs": [
    {
     "data": {
      "text/html": [
       "<div>\n",
       "<style scoped>\n",
       "    .dataframe tbody tr th:only-of-type {\n",
       "        vertical-align: middle;\n",
       "    }\n",
       "\n",
       "    .dataframe tbody tr th {\n",
       "        vertical-align: top;\n",
       "    }\n",
       "\n",
       "    .dataframe thead th {\n",
       "        text-align: right;\n",
       "    }\n",
       "</style>\n",
       "<table border=\"1\" class=\"dataframe\">\n",
       "  <thead>\n",
       "    <tr style=\"text-align: right;\">\n",
       "      <th></th>\n",
       "      <th>session</th>\n",
       "      <th>n_questionnaire_filled</th>\n",
       "      <th>response_rate</th>\n",
       "      <th>lift</th>\n",
       "      <th>p-value</th>\n",
       "      <th>PBB</th>\n",
       "    </tr>\n",
       "  </thead>\n",
       "  <tbody>\n",
       "    <tr>\n",
       "      <th>Control</th>\n",
       "      <td>561</td>\n",
       "      <td>53</td>\n",
       "      <td>9.45</td>\n",
       "      <td>---</td>\n",
       "      <td>---</td>\n",
       "      <td>72.52</td>\n",
       "    </tr>\n",
       "    <tr>\n",
       "      <th>Exposed</th>\n",
       "      <td>203</td>\n",
       "      <td>16</td>\n",
       "      <td>7.88</td>\n",
       "      <td>-1.57</td>\n",
       "      <td>0.75</td>\n",
       "      <td>27.48</td>\n",
       "    </tr>\n",
       "  </tbody>\n",
       "</table>\n",
       "</div>"
      ],
      "text/plain": [
       "         session  n_questionnaire_filled  response_rate  lift p-value    PBB\n",
       "Control      561                      53           9.45   ---     ---  72.52\n",
       "Exposed      203                      16           7.88 -1.57    0.75  27.48"
      ]
     },
     "execution_count": 90,
     "metadata": {},
     "output_type": "execute_result"
    }
   ],
   "source": [
    "summary_results(data = data[data[\"browser_type\"] == \"Facebook\"])"
   ]
  },
  {
   "cell_type": "code",
   "execution_count": 91,
   "id": "fec47572",
   "metadata": {
    "colab": {
     "base_uri": "https://localhost:8080/",
     "height": 112
    },
    "id": "fec47572",
    "outputId": "5a72f75b-3d54-4f53-8ed0-eb0a1f511faa"
   },
   "outputs": [
    {
     "data": {
      "text/html": [
       "<div>\n",
       "<style scoped>\n",
       "    .dataframe tbody tr th:only-of-type {\n",
       "        vertical-align: middle;\n",
       "    }\n",
       "\n",
       "    .dataframe tbody tr th {\n",
       "        vertical-align: top;\n",
       "    }\n",
       "\n",
       "    .dataframe thead th {\n",
       "        text-align: right;\n",
       "    }\n",
       "</style>\n",
       "<table border=\"1\" class=\"dataframe\">\n",
       "  <thead>\n",
       "    <tr style=\"text-align: right;\">\n",
       "      <th></th>\n",
       "      <th>session</th>\n",
       "      <th>n_questionnaire_filled</th>\n",
       "      <th>response_rate</th>\n",
       "      <th>lift</th>\n",
       "      <th>p-value</th>\n",
       "      <th>PBB</th>\n",
       "    </tr>\n",
       "  </thead>\n",
       "  <tbody>\n",
       "    <tr>\n",
       "      <th>Control</th>\n",
       "      <td>276</td>\n",
       "      <td>3</td>\n",
       "      <td>1.09</td>\n",
       "      <td>---</td>\n",
       "      <td>---</td>\n",
       "      <td>43.16</td>\n",
       "    </tr>\n",
       "    <tr>\n",
       "      <th>Exposed</th>\n",
       "      <td>105</td>\n",
       "      <td>1</td>\n",
       "      <td>0.95</td>\n",
       "      <td>-0.14</td>\n",
       "      <td>0.55</td>\n",
       "      <td>56.84</td>\n",
       "    </tr>\n",
       "  </tbody>\n",
       "</table>\n",
       "</div>"
      ],
      "text/plain": [
       "         session  n_questionnaire_filled  response_rate  lift p-value    PBB\n",
       "Control      276                       3           1.09   ---     ---  43.16\n",
       "Exposed      105                       1           0.95 -0.14    0.55  56.84"
      ]
     },
     "execution_count": 91,
     "metadata": {},
     "output_type": "execute_result"
    }
   ],
   "source": [
    "summary_results(data = data[data[\"browser_type\"] == \"Safari\"])"
   ]
  },
  {
   "cell_type": "code",
   "execution_count": 92,
   "id": "996a9224",
   "metadata": {},
   "outputs": [
    {
     "name": "stderr",
     "output_type": "stream",
     "text": [
      "C:\\Users\\Microsoft\\anaconda3\\lib\\site-packages\\statsmodels\\stats\\weightstats.py:790: RuntimeWarning: invalid value encountered in double_scalars\n",
      "  zstat = value / std\n"
     ]
    },
    {
     "data": {
      "text/html": [
       "<div>\n",
       "<style scoped>\n",
       "    .dataframe tbody tr th:only-of-type {\n",
       "        vertical-align: middle;\n",
       "    }\n",
       "\n",
       "    .dataframe tbody tr th {\n",
       "        vertical-align: top;\n",
       "    }\n",
       "\n",
       "    .dataframe thead th {\n",
       "        text-align: right;\n",
       "    }\n",
       "</style>\n",
       "<table border=\"1\" class=\"dataframe\">\n",
       "  <thead>\n",
       "    <tr style=\"text-align: right;\">\n",
       "      <th></th>\n",
       "      <th>session</th>\n",
       "      <th>n_questionnaire_filled</th>\n",
       "      <th>response_rate</th>\n",
       "      <th>lift</th>\n",
       "      <th>p-value</th>\n",
       "      <th>PBB</th>\n",
       "    </tr>\n",
       "  </thead>\n",
       "  <tbody>\n",
       "    <tr>\n",
       "      <th>Control</th>\n",
       "      <td>5</td>\n",
       "      <td>0</td>\n",
       "      <td>0.0</td>\n",
       "      <td>---</td>\n",
       "      <td>---</td>\n",
       "      <td>54.31</td>\n",
       "    </tr>\n",
       "    <tr>\n",
       "      <th>Exposed</th>\n",
       "      <td>6</td>\n",
       "      <td>0</td>\n",
       "      <td>0.0</td>\n",
       "      <td>0.0</td>\n",
       "      <td>NaN</td>\n",
       "      <td>45.69</td>\n",
       "    </tr>\n",
       "  </tbody>\n",
       "</table>\n",
       "</div>"
      ],
      "text/plain": [
       "         session  n_questionnaire_filled  response_rate lift p-value    PBB\n",
       "Control        5                       0            0.0  ---     ---  54.31\n",
       "Exposed        6                       0            0.0  0.0     NaN  45.69"
      ]
     },
     "execution_count": 92,
     "metadata": {},
     "output_type": "execute_result"
    }
   ],
   "source": [
    "summary_results(data = data[data[\"browser_type\"] == \"Others\"])"
   ]
  }
 ],
 "metadata": {
  "colab": {
   "provenance": []
  },
  "kernelspec": {
   "display_name": "Python 3 (ipykernel)",
   "language": "python",
   "name": "python3"
  },
  "language_info": {
   "codemirror_mode": {
    "name": "ipython",
    "version": 3
   },
   "file_extension": ".py",
   "mimetype": "text/x-python",
   "name": "python",
   "nbconvert_exporter": "python",
   "pygments_lexer": "ipython3",
   "version": "3.10.9"
  }
 },
 "nbformat": 4,
 "nbformat_minor": 5
}
